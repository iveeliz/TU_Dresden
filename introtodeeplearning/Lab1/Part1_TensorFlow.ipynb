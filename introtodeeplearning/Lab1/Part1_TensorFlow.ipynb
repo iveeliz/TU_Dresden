{
 "cells": [
  {
   "cell_type": "markdown",
   "metadata": {
    "id": "WBk0ZDWY-ff8"
   },
   "source": [
    "<table align=\"center\">\n",
    "  <td align=\"center\"><a target=\"_blank\" href=\"https://colab.research.google.com/github/aamini/introtodeeplearning/blob/master/lab1/solutions/Part1_TensorFlow_Solution.ipynb\">\n",
    "        <img src=\"https://i.ibb.co/2P3SLwK/colab.png\"  style=\"padding-bottom:5px;\" />Run in Google Colab</a></td>\n",
    "</table>\n",
    "\n",
    "# Copyright Information\n"
   ]
  },
  {
   "cell_type": "code",
   "execution_count": null,
   "metadata": {},
   "outputs": [],
   "source": [
    "# Copyright 2022 MIT 6.S191 Introduction to Deep Learning. All Rights Reserved.\n",
    "# Modified by Martin Keller-Ressel 2022.\n",
    "# \n",
    "# Licensed under the MIT License. You may not use this file except in compliance\n",
    "# with the License. Use and/or modification of this code outside of 6.S191 must\n",
    "# reference:\n",
    "#\n",
    "# © MIT 6.S191: Introduction to Deep Learning\n",
    "# http://introtodeeplearning.com"
   ]
  },
  {
   "cell_type": "markdown",
   "metadata": {
    "id": "57knM8jrYZ2t"
   },
   "source": [
    "# Lab 1: Intro to TensorFlow and Music Generation with RNNs\n",
    "\n",
    "In this lab, you'll get exposure to using TensorFlow and learn how it can be used for solving deep learning tasks. Go through the code and run each cell. Along the way, you'll encounter several ***TODO*** blocks -- follow the instructions to fill them out before running those cells and continuing.\n",
    "\n",
    "\n",
    "# Part 1: Intro to TensorFlow\n",
    "\n",
    "## 0.1 Install TensorFlow\n",
    "\n",
    "TensorFlow is a software library extensively used in machine learning. Here we'll learn how computations are represented and how to define a simple neural network in TensorFlow. For all the labs in 6.S191 2022, we'll be using the latest version of TensorFlow, TensorFlow 2, which affords great flexibility and the ability to imperatively execute operations, just like in Python. You'll notice that TensorFlow 2 is quite similar to Python in its syntax and imperative execution. Let's install TensorFlow and a couple of dependencies.\n"
   ]
  },
  {
   "cell_type": "code",
   "execution_count": 1,
   "metadata": {},
   "outputs": [],
   "source": [
    "import numpy as np\n",
    "import matplotlib.pyplot as plt"
   ]
  },
  {
   "cell_type": "code",
   "execution_count": 3,
   "metadata": {
    "colab": {
     "base_uri": "https://localhost:8080/"
    },
    "id": "LkaimNJfYZ2w",
    "outputId": "fddcbe60-38a2-4bf8-86a8-86110e8a0e16"
   },
   "outputs": [
    {
     "name": "stdout",
     "output_type": "stream",
     "text": [
      "Collecting tensorflow\n",
      "  Obtaining dependency information for tensorflow from https://files.pythonhosted.org/packages/9e/b8/ed5f794359d05cd0bffb894c6418da87b93016ee17b669d55c45d1bd5d5b/tensorflow-2.13.0-cp311-cp311-win_amd64.whl.metadata\n",
      "  Downloading tensorflow-2.13.0-cp311-cp311-win_amd64.whl.metadata (2.6 kB)\n",
      "Collecting tensorflow-intel==2.13.0 (from tensorflow)\n",
      "  Obtaining dependency information for tensorflow-intel==2.13.0 from https://files.pythonhosted.org/packages/2f/2f/3c84f675931ce3bcbc7e23acbba1e5d7f05ce769adab48322de57a9f5928/tensorflow_intel-2.13.0-cp311-cp311-win_amd64.whl.metadata\n",
      "  Downloading tensorflow_intel-2.13.0-cp311-cp311-win_amd64.whl.metadata (4.1 kB)\n",
      "Collecting absl-py>=1.0.0 (from tensorflow-intel==2.13.0->tensorflow)\n",
      "  Obtaining dependency information for absl-py>=1.0.0 from https://files.pythonhosted.org/packages/01/e4/dc0a1dcc4e74e08d7abedab278c795eef54a224363bb18f5692f416d834f/absl_py-2.0.0-py3-none-any.whl.metadata\n",
      "  Downloading absl_py-2.0.0-py3-none-any.whl.metadata (2.3 kB)\n",
      "Collecting astunparse>=1.6.0 (from tensorflow-intel==2.13.0->tensorflow)\n",
      "  Using cached astunparse-1.6.3-py2.py3-none-any.whl (12 kB)\n",
      "Collecting flatbuffers>=23.1.21 (from tensorflow-intel==2.13.0->tensorflow)\n",
      "  Obtaining dependency information for flatbuffers>=23.1.21 from https://files.pythonhosted.org/packages/6f/12/d5c79ee252793ffe845d58a913197bfa02ae9a0b5c9bc3dc4b58d477b9e7/flatbuffers-23.5.26-py2.py3-none-any.whl.metadata\n",
      "  Downloading flatbuffers-23.5.26-py2.py3-none-any.whl.metadata (850 bytes)\n",
      "Collecting gast<=0.4.0,>=0.2.1 (from tensorflow-intel==2.13.0->tensorflow)\n",
      "  Using cached gast-0.4.0-py3-none-any.whl (9.8 kB)\n",
      "Collecting google-pasta>=0.1.1 (from tensorflow-intel==2.13.0->tensorflow)\n",
      "  Using cached google_pasta-0.2.0-py3-none-any.whl (57 kB)\n",
      "Requirement already satisfied: h5py>=2.9.0 in c:\\users\\iveel\\anaconda3\\lib\\site-packages (from tensorflow-intel==2.13.0->tensorflow) (3.7.0)\n",
      "Collecting libclang>=13.0.0 (from tensorflow-intel==2.13.0->tensorflow)\n",
      "  Obtaining dependency information for libclang>=13.0.0 from https://files.pythonhosted.org/packages/02/8c/dc970bc00867fe290e8c8a7befa1635af716a9ebdfe3fb9dce0ca4b522ce/libclang-16.0.6-py2.py3-none-win_amd64.whl.metadata\n",
      "  Downloading libclang-16.0.6-py2.py3-none-win_amd64.whl.metadata (5.3 kB)\n",
      "Requirement already satisfied: numpy<=1.24.3,>=1.22 in c:\\users\\iveel\\anaconda3\\lib\\site-packages (from tensorflow-intel==2.13.0->tensorflow) (1.24.3)\n",
      "Collecting opt-einsum>=2.3.2 (from tensorflow-intel==2.13.0->tensorflow)\n",
      "  Using cached opt_einsum-3.3.0-py3-none-any.whl (65 kB)\n",
      "Requirement already satisfied: packaging in c:\\users\\iveel\\anaconda3\\lib\\site-packages (from tensorflow-intel==2.13.0->tensorflow) (23.0)\n",
      "Collecting protobuf!=4.21.0,!=4.21.1,!=4.21.2,!=4.21.3,!=4.21.4,!=4.21.5,<5.0.0dev,>=3.20.3 (from tensorflow-intel==2.13.0->tensorflow)\n",
      "  Obtaining dependency information for protobuf!=4.21.0,!=4.21.1,!=4.21.2,!=4.21.3,!=4.21.4,!=4.21.5,<5.0.0dev,>=3.20.3 from https://files.pythonhosted.org/packages/5e/46/5b9674a33cbf690ffdd79ab1863767a66461cd06ea7aeb9f90e4e50be7a5/protobuf-4.24.3-cp310-abi3-win_amd64.whl.metadata\n",
      "  Downloading protobuf-4.24.3-cp310-abi3-win_amd64.whl.metadata (540 bytes)\n",
      "Requirement already satisfied: setuptools in c:\\users\\iveel\\anaconda3\\lib\\site-packages (from tensorflow-intel==2.13.0->tensorflow) (68.0.0)\n",
      "Requirement already satisfied: six>=1.12.0 in c:\\users\\iveel\\anaconda3\\lib\\site-packages (from tensorflow-intel==2.13.0->tensorflow) (1.16.0)\n",
      "Collecting termcolor>=1.1.0 (from tensorflow-intel==2.13.0->tensorflow)\n",
      "  Using cached termcolor-2.3.0-py3-none-any.whl (6.9 kB)\n",
      "Collecting typing-extensions<4.6.0,>=3.6.6 (from tensorflow-intel==2.13.0->tensorflow)\n",
      "  Downloading typing_extensions-4.5.0-py3-none-any.whl (27 kB)\n",
      "Requirement already satisfied: wrapt>=1.11.0 in c:\\users\\iveel\\anaconda3\\lib\\site-packages (from tensorflow-intel==2.13.0->tensorflow) (1.14.1)\n",
      "Collecting grpcio<2.0,>=1.24.3 (from tensorflow-intel==2.13.0->tensorflow)\n",
      "  Obtaining dependency information for grpcio<2.0,>=1.24.3 from https://files.pythonhosted.org/packages/2c/98/6f45e1e42993c6b9e607b10a9a103e98e2e73d6fd430d4004adff216a98e/grpcio-1.58.0-cp311-cp311-win_amd64.whl.metadata\n",
      "  Downloading grpcio-1.58.0-cp311-cp311-win_amd64.whl.metadata (4.1 kB)\n",
      "Collecting tensorboard<2.14,>=2.13 (from tensorflow-intel==2.13.0->tensorflow)\n",
      "  Using cached tensorboard-2.13.0-py3-none-any.whl (5.6 MB)\n",
      "Collecting tensorflow-estimator<2.14,>=2.13.0 (from tensorflow-intel==2.13.0->tensorflow)\n",
      "  Obtaining dependency information for tensorflow-estimator<2.14,>=2.13.0 from https://files.pythonhosted.org/packages/72/5c/c318268d96791c6222ad7df1651bbd1b2409139afeb6f468c0f327177016/tensorflow_estimator-2.13.0-py2.py3-none-any.whl.metadata\n",
      "  Downloading tensorflow_estimator-2.13.0-py2.py3-none-any.whl.metadata (1.3 kB)\n",
      "Collecting keras<2.14,>=2.13.1 (from tensorflow-intel==2.13.0->tensorflow)\n",
      "  Obtaining dependency information for keras<2.14,>=2.13.1 from https://files.pythonhosted.org/packages/2e/f3/19da7511b45e80216cbbd9467137b2d28919c58ba1ccb971435cb631e470/keras-2.13.1-py3-none-any.whl.metadata\n",
      "  Downloading keras-2.13.1-py3-none-any.whl.metadata (2.4 kB)\n",
      "Collecting tensorflow-io-gcs-filesystem>=0.23.1 (from tensorflow-intel==2.13.0->tensorflow)\n",
      "  Downloading tensorflow_io_gcs_filesystem-0.31.0-cp311-cp311-win_amd64.whl (1.5 MB)\n",
      "     ---------------------------------------- 0.0/1.5 MB ? eta -:--:--\n",
      "     --- ------------------------------------ 0.1/1.5 MB 2.4 MB/s eta 0:00:01\n",
      "     ------- -------------------------------- 0.3/1.5 MB 2.8 MB/s eta 0:00:01\n",
      "     ------------ --------------------------- 0.5/1.5 MB 3.3 MB/s eta 0:00:01\n",
      "     ------------------ --------------------- 0.7/1.5 MB 3.6 MB/s eta 0:00:01\n",
      "     -------------------- ------------------- 0.8/1.5 MB 3.2 MB/s eta 0:00:01\n",
      "     --------------------------- ------------ 1.0/1.5 MB 3.4 MB/s eta 0:00:01\n",
      "     ---------------------------------------  1.5/1.5 MB 4.7 MB/s eta 0:00:01\n",
      "     ---------------------------------------- 1.5/1.5 MB 4.3 MB/s eta 0:00:00\n",
      "Requirement already satisfied: wheel<1.0,>=0.23.0 in c:\\users\\iveel\\anaconda3\\lib\\site-packages (from astunparse>=1.6.0->tensorflow-intel==2.13.0->tensorflow) (0.38.4)\n",
      "Collecting google-auth<3,>=1.6.3 (from tensorboard<2.14,>=2.13->tensorflow-intel==2.13.0->tensorflow)\n",
      "  Obtaining dependency information for google-auth<3,>=1.6.3 from https://files.pythonhosted.org/packages/9d/44/5a992cb9d7bf8aaae73bc5adaf721ad08731c9d00c1c17999a8691404b0c/google_auth-2.23.0-py2.py3-none-any.whl.metadata\n",
      "  Downloading google_auth-2.23.0-py2.py3-none-any.whl.metadata (4.2 kB)\n",
      "Collecting google-auth-oauthlib<1.1,>=0.5 (from tensorboard<2.14,>=2.13->tensorflow-intel==2.13.0->tensorflow)\n",
      "  Using cached google_auth_oauthlib-1.0.0-py2.py3-none-any.whl (18 kB)\n",
      "Requirement already satisfied: markdown>=2.6.8 in c:\\users\\iveel\\anaconda3\\lib\\site-packages (from tensorboard<2.14,>=2.13->tensorflow-intel==2.13.0->tensorflow) (3.4.1)\n",
      "Requirement already satisfied: requests<3,>=2.21.0 in c:\\users\\iveel\\anaconda3\\lib\\site-packages (from tensorboard<2.14,>=2.13->tensorflow-intel==2.13.0->tensorflow) (2.31.0)\n",
      "Collecting tensorboard-data-server<0.8.0,>=0.7.0 (from tensorboard<2.14,>=2.13->tensorflow-intel==2.13.0->tensorflow)\n",
      "  Obtaining dependency information for tensorboard-data-server<0.8.0,>=0.7.0 from https://files.pythonhosted.org/packages/da/61/6e9ff8258422d287eec718872fb71e05324356722ab658c8afda25f51539/tensorboard_data_server-0.7.1-py3-none-any.whl.metadata\n",
      "  Downloading tensorboard_data_server-0.7.1-py3-none-any.whl.metadata (1.1 kB)\n",
      "Requirement already satisfied: werkzeug>=1.0.1 in c:\\users\\iveel\\anaconda3\\lib\\site-packages (from tensorboard<2.14,>=2.13->tensorflow-intel==2.13.0->tensorflow) (2.2.3)\n",
      "Collecting cachetools<6.0,>=2.0.0 (from google-auth<3,>=1.6.3->tensorboard<2.14,>=2.13->tensorflow-intel==2.13.0->tensorflow)\n",
      "  Obtaining dependency information for cachetools<6.0,>=2.0.0 from https://files.pythonhosted.org/packages/a9/c9/c8a7710f2cedcb1db9224fdd4d8307c9e48cbddc46c18b515fefc0f1abbe/cachetools-5.3.1-py3-none-any.whl.metadata\n",
      "  Downloading cachetools-5.3.1-py3-none-any.whl.metadata (5.2 kB)\n",
      "Requirement already satisfied: pyasn1-modules>=0.2.1 in c:\\users\\iveel\\anaconda3\\lib\\site-packages (from google-auth<3,>=1.6.3->tensorboard<2.14,>=2.13->tensorflow-intel==2.13.0->tensorflow) (0.2.8)\n",
      "Collecting rsa<5,>=3.1.4 (from google-auth<3,>=1.6.3->tensorboard<2.14,>=2.13->tensorflow-intel==2.13.0->tensorflow)\n",
      "  Using cached rsa-4.9-py3-none-any.whl (34 kB)\n",
      "Requirement already satisfied: urllib3<2.0 in c:\\users\\iveel\\anaconda3\\lib\\site-packages (from google-auth<3,>=1.6.3->tensorboard<2.14,>=2.13->tensorflow-intel==2.13.0->tensorflow) (1.26.16)\n",
      "Collecting requests-oauthlib>=0.7.0 (from google-auth-oauthlib<1.1,>=0.5->tensorboard<2.14,>=2.13->tensorflow-intel==2.13.0->tensorflow)\n",
      "  Using cached requests_oauthlib-1.3.1-py2.py3-none-any.whl (23 kB)\n",
      "Requirement already satisfied: charset-normalizer<4,>=2 in c:\\users\\iveel\\anaconda3\\lib\\site-packages (from requests<3,>=2.21.0->tensorboard<2.14,>=2.13->tensorflow-intel==2.13.0->tensorflow) (2.0.4)\n",
      "Requirement already satisfied: idna<4,>=2.5 in c:\\users\\iveel\\anaconda3\\lib\\site-packages (from requests<3,>=2.21.0->tensorboard<2.14,>=2.13->tensorflow-intel==2.13.0->tensorflow) (3.4)\n",
      "Requirement already satisfied: certifi>=2017.4.17 in c:\\users\\iveel\\anaconda3\\lib\\site-packages (from requests<3,>=2.21.0->tensorboard<2.14,>=2.13->tensorflow-intel==2.13.0->tensorflow) (2023.7.22)\n",
      "Requirement already satisfied: MarkupSafe>=2.1.1 in c:\\users\\iveel\\anaconda3\\lib\\site-packages (from werkzeug>=1.0.1->tensorboard<2.14,>=2.13->tensorflow-intel==2.13.0->tensorflow) (2.1.1)\n",
      "Requirement already satisfied: pyasn1<0.5.0,>=0.4.6 in c:\\users\\iveel\\anaconda3\\lib\\site-packages (from pyasn1-modules>=0.2.1->google-auth<3,>=1.6.3->tensorboard<2.14,>=2.13->tensorflow-intel==2.13.0->tensorflow) (0.4.8)\n",
      "Collecting oauthlib>=3.0.0 (from requests-oauthlib>=0.7.0->google-auth-oauthlib<1.1,>=0.5->tensorboard<2.14,>=2.13->tensorflow-intel==2.13.0->tensorflow)\n",
      "  Using cached oauthlib-3.2.2-py3-none-any.whl (151 kB)\n",
      "Downloading tensorflow-2.13.0-cp311-cp311-win_amd64.whl (1.9 kB)\n",
      "Downloading tensorflow_intel-2.13.0-cp311-cp311-win_amd64.whl (276.6 MB)\n",
      "   ---------------------------------------- 0.0/276.6 MB ? eta -:--:--\n",
      "   ---------------------------------------- 0.2/276.6 MB 6.9 MB/s eta 0:00:40\n",
      "   ---------------------------------------- 0.5/276.6 MB 6.0 MB/s eta 0:00:46\n",
      "   ---------------------------------------- 0.7/276.6 MB 4.8 MB/s eta 0:00:58\n",
      "   ---------------------------------------- 0.9/276.6 MB 5.0 MB/s eta 0:00:56\n",
      "   ---------------------------------------- 1.2/276.6 MB 5.1 MB/s eta 0:00:54\n",
      "   ---------------------------------------- 1.5/276.6 MB 5.2 MB/s eta 0:00:53\n",
      "   ---------------------------------------- 1.8/276.6 MB 5.3 MB/s eta 0:00:52\n",
      "   ---------------------------------------- 2.1/276.6 MB 5.5 MB/s eta 0:00:51\n",
      "   ---------------------------------------- 2.3/276.6 MB 5.5 MB/s eta 0:00:50\n",
      "   ---------------------------------------- 2.6/276.6 MB 5.5 MB/s eta 0:00:51\n",
      "   ---------------------------------------- 2.9/276.6 MB 5.6 MB/s eta 0:00:49\n",
      "   ---------------------------------------- 3.2/276.6 MB 5.7 MB/s eta 0:00:48\n",
      "    --------------------------------------- 3.6/276.6 MB 5.8 MB/s eta 0:00:47\n",
      "    --------------------------------------- 3.9/276.6 MB 5.9 MB/s eta 0:00:46\n",
      "    --------------------------------------- 4.2/276.6 MB 6.0 MB/s eta 0:00:46\n",
      "    --------------------------------------- 4.5/276.6 MB 6.0 MB/s eta 0:00:45\n",
      "    --------------------------------------- 4.9/276.6 MB 6.2 MB/s eta 0:00:44\n",
      "    --------------------------------------- 5.2/276.6 MB 6.2 MB/s eta 0:00:44\n",
      "    --------------------------------------- 5.6/276.6 MB 6.2 MB/s eta 0:00:44\n",
      "    --------------------------------------- 5.9/276.6 MB 6.2 MB/s eta 0:00:44\n",
      "    --------------------------------------- 6.3/276.6 MB 6.3 MB/s eta 0:00:43\n",
      "    --------------------------------------- 6.6/276.6 MB 6.3 MB/s eta 0:00:43\n",
      "   - -------------------------------------- 7.0/276.6 MB 6.4 MB/s eta 0:00:43\n",
      "   - -------------------------------------- 7.3/276.6 MB 6.4 MB/s eta 0:00:42\n",
      "   - -------------------------------------- 7.7/276.6 MB 6.5 MB/s eta 0:00:42\n",
      "   - -------------------------------------- 8.0/276.6 MB 6.5 MB/s eta 0:00:42\n",
      "   - -------------------------------------- 8.4/276.6 MB 6.5 MB/s eta 0:00:42\n",
      "   - -------------------------------------- 8.7/276.6 MB 6.6 MB/s eta 0:00:41\n",
      "   - -------------------------------------- 9.0/276.6 MB 6.6 MB/s eta 0:00:41\n",
      "   - -------------------------------------- 9.4/276.6 MB 6.6 MB/s eta 0:00:41\n",
      "   - -------------------------------------- 9.7/276.6 MB 6.6 MB/s eta 0:00:41\n",
      "   - -------------------------------------- 10.2/276.6 MB 6.7 MB/s eta 0:00:40\n",
      "   - -------------------------------------- 10.6/276.6 MB 6.8 MB/s eta 0:00:40\n",
      "   - -------------------------------------- 10.9/276.6 MB 7.0 MB/s eta 0:00:39\n",
      "   - -------------------------------------- 11.4/276.6 MB 7.0 MB/s eta 0:00:38\n",
      "   - -------------------------------------- 11.8/276.6 MB 7.1 MB/s eta 0:00:38\n",
      "   - -------------------------------------- 12.1/276.6 MB 7.2 MB/s eta 0:00:37\n",
      "   - -------------------------------------- 12.7/276.6 MB 7.3 MB/s eta 0:00:37\n",
      "   - -------------------------------------- 13.0/276.6 MB 7.4 MB/s eta 0:00:36\n",
      "   - -------------------------------------- 13.0/276.6 MB 7.4 MB/s eta 0:00:36\n",
      "   - -------------------------------------- 13.0/276.6 MB 7.4 MB/s eta 0:00:36\n",
      "   - -------------------------------------- 13.0/276.6 MB 6.7 MB/s eta 0:00:40\n",
      "   - -------------------------------------- 13.1/276.6 MB 6.5 MB/s eta 0:00:41\n",
      "   - -------------------------------------- 13.5/276.6 MB 6.5 MB/s eta 0:00:41\n",
      "   -- ------------------------------------- 13.9/276.6 MB 6.6 MB/s eta 0:00:40\n",
      "   -- ------------------------------------- 14.3/276.6 MB 6.7 MB/s eta 0:00:40\n",
      "   -- ------------------------------------- 14.6/276.6 MB 6.6 MB/s eta 0:00:40\n",
      "   -- ------------------------------------- 15.0/276.6 MB 6.7 MB/s eta 0:00:40\n",
      "   -- ------------------------------------- 15.4/276.6 MB 6.7 MB/s eta 0:00:40\n",
      "   -- ------------------------------------- 15.6/276.6 MB 6.7 MB/s eta 0:00:40\n",
      "   -- ------------------------------------- 16.1/276.6 MB 6.7 MB/s eta 0:00:39\n",
      "   -- ------------------------------------- 16.4/276.6 MB 6.7 MB/s eta 0:00:39\n",
      "   -- ------------------------------------- 16.8/276.6 MB 6.8 MB/s eta 0:00:39\n",
      "   -- ------------------------------------- 17.2/276.6 MB 6.8 MB/s eta 0:00:39\n",
      "   -- ------------------------------------- 17.5/276.6 MB 6.8 MB/s eta 0:00:38\n",
      "   -- ------------------------------------- 18.1/276.6 MB 6.9 MB/s eta 0:00:38\n",
      "   -- ------------------------------------- 18.6/276.6 MB 6.9 MB/s eta 0:00:38\n",
      "   -- ------------------------------------- 18.9/276.6 MB 7.0 MB/s eta 0:00:37\n",
      "   -- ------------------------------------- 19.5/276.6 MB 7.0 MB/s eta 0:00:37\n",
      "   -- ------------------------------------- 19.9/276.6 MB 7.0 MB/s eta 0:00:37\n",
      "   -- ------------------------------------- 20.2/276.6 MB 7.0 MB/s eta 0:00:37\n",
      "   -- ------------------------------------- 20.6/276.6 MB 7.0 MB/s eta 0:00:37\n",
      "   --- ------------------------------------ 21.0/276.6 MB 7.0 MB/s eta 0:00:37\n",
      "   --- ------------------------------------ 21.4/276.6 MB 7.0 MB/s eta 0:00:37\n",
      "   --- ------------------------------------ 21.7/276.6 MB 7.0 MB/s eta 0:00:37\n",
      "   --- ------------------------------------ 22.1/276.6 MB 7.1 MB/s eta 0:00:36\n",
      "   --- ------------------------------------ 22.5/276.6 MB 7.0 MB/s eta 0:00:37\n",
      "   --- ------------------------------------ 22.9/276.6 MB 7.1 MB/s eta 0:00:36\n",
      "   --- ------------------------------------ 23.3/276.6 MB 8.1 MB/s eta 0:00:32\n",
      "   --- ------------------------------------ 23.7/276.6 MB 8.2 MB/s eta 0:00:31\n",
      "   --- ------------------------------------ 24.1/276.6 MB 8.2 MB/s eta 0:00:31\n",
      "   --- ------------------------------------ 24.5/276.6 MB 8.2 MB/s eta 0:00:31\n",
      "   --- ------------------------------------ 24.9/276.6 MB 8.2 MB/s eta 0:00:31\n",
      "   --- ------------------------------------ 25.3/276.6 MB 8.2 MB/s eta 0:00:31\n",
      "   --- ------------------------------------ 25.8/276.6 MB 8.2 MB/s eta 0:00:31\n",
      "   --- ------------------------------------ 26.2/276.6 MB 8.1 MB/s eta 0:00:31\n",
      "   --- ------------------------------------ 26.7/276.6 MB 8.2 MB/s eta 0:00:31\n",
      "   --- ------------------------------------ 27.2/276.6 MB 8.2 MB/s eta 0:00:31\n",
      "   --- ------------------------------------ 27.6/276.6 MB 8.3 MB/s eta 0:00:31\n",
      "   ---- ----------------------------------- 27.9/276.6 MB 8.3 MB/s eta 0:00:30\n",
      "   ---- ----------------------------------- 28.3/276.6 MB 8.2 MB/s eta 0:00:31\n",
      "   ---- ----------------------------------- 28.7/276.6 MB 8.4 MB/s eta 0:00:30\n",
      "   ---- ----------------------------------- 29.1/276.6 MB 8.4 MB/s eta 0:00:30\n",
      "   ---- ----------------------------------- 29.5/276.6 MB 8.3 MB/s eta 0:00:30\n",
      "   ---- ----------------------------------- 29.9/276.6 MB 8.3 MB/s eta 0:00:30\n",
      "   ---- ----------------------------------- 30.3/276.6 MB 8.3 MB/s eta 0:00:30\n",
      "   ---- ----------------------------------- 30.7/276.6 MB 8.3 MB/s eta 0:00:30\n",
      "   ---- ----------------------------------- 31.1/276.6 MB 8.4 MB/s eta 0:00:30\n",
      "   ---- ----------------------------------- 31.6/276.6 MB 8.5 MB/s eta 0:00:29\n",
      "   ---- ----------------------------------- 32.0/276.6 MB 8.5 MB/s eta 0:00:29\n",
      "   ---- ----------------------------------- 32.3/276.6 MB 8.4 MB/s eta 0:00:30\n",
      "   ---- ----------------------------------- 32.6/276.6 MB 8.4 MB/s eta 0:00:30\n",
      "   ---- ----------------------------------- 33.0/276.6 MB 8.3 MB/s eta 0:00:30\n",
      "   ---- ----------------------------------- 33.4/276.6 MB 8.3 MB/s eta 0:00:30\n",
      "   ---- ----------------------------------- 33.7/276.6 MB 8.3 MB/s eta 0:00:30\n",
      "   ---- ----------------------------------- 34.3/276.6 MB 8.4 MB/s eta 0:00:29\n",
      "   ----- ---------------------------------- 34.7/276.6 MB 8.4 MB/s eta 0:00:29\n",
      "   ----- ---------------------------------- 35.2/276.6 MB 8.3 MB/s eta 0:00:30\n",
      "   ----- ---------------------------------- 35.8/276.6 MB 8.3 MB/s eta 0:00:30\n",
      "   ----- ---------------------------------- 36.3/276.6 MB 8.5 MB/s eta 0:00:29\n",
      "   ----- ---------------------------------- 36.7/276.6 MB 8.5 MB/s eta 0:00:29\n",
      "   ----- ---------------------------------- 37.2/276.6 MB 8.5 MB/s eta 0:00:29\n",
      "   ----- ---------------------------------- 37.6/276.6 MB 8.5 MB/s eta 0:00:29\n",
      "   ----- ---------------------------------- 37.9/276.6 MB 8.5 MB/s eta 0:00:29\n",
      "   ----- ---------------------------------- 38.3/276.6 MB 8.5 MB/s eta 0:00:29\n",
      "   ----- ---------------------------------- 38.7/276.6 MB 8.5 MB/s eta 0:00:28\n",
      "   ----- ---------------------------------- 39.1/276.6 MB 8.5 MB/s eta 0:00:28\n",
      "   ----- ---------------------------------- 39.5/276.6 MB 8.4 MB/s eta 0:00:29\n",
      "   ----- ---------------------------------- 39.8/276.6 MB 8.5 MB/s eta 0:00:28\n",
      "   ----- ---------------------------------- 40.3/276.6 MB 8.5 MB/s eta 0:00:28\n",
      "   ----- ---------------------------------- 40.7/276.6 MB 8.5 MB/s eta 0:00:28\n",
      "   ----- ---------------------------------- 41.1/276.6 MB 8.4 MB/s eta 0:00:29\n",
      "   ----- ---------------------------------- 41.5/276.6 MB 8.4 MB/s eta 0:00:29\n",
      "   ------ --------------------------------- 41.9/276.6 MB 8.4 MB/s eta 0:00:28\n",
      "   ------ --------------------------------- 42.4/276.6 MB 8.5 MB/s eta 0:00:28\n",
      "   ------ --------------------------------- 42.9/276.6 MB 8.6 MB/s eta 0:00:28\n",
      "   ------ --------------------------------- 43.3/276.6 MB 8.6 MB/s eta 0:00:28\n",
      "   ------ --------------------------------- 43.7/276.6 MB 8.6 MB/s eta 0:00:28\n",
      "   ------ --------------------------------- 44.2/276.6 MB 8.5 MB/s eta 0:00:28\n",
      "   ------ --------------------------------- 44.8/276.6 MB 8.6 MB/s eta 0:00:27\n",
      "   ------ --------------------------------- 45.2/276.6 MB 8.6 MB/s eta 0:00:27\n",
      "   ------ --------------------------------- 45.6/276.6 MB 8.7 MB/s eta 0:00:27\n",
      "   ------ --------------------------------- 46.0/276.6 MB 8.7 MB/s eta 0:00:27\n",
      "   ------ --------------------------------- 46.5/276.6 MB 8.7 MB/s eta 0:00:27\n",
      "   ------ --------------------------------- 46.9/276.6 MB 8.7 MB/s eta 0:00:27\n",
      "   ------ --------------------------------- 47.3/276.6 MB 8.7 MB/s eta 0:00:27\n",
      "   ------ --------------------------------- 47.7/276.6 MB 8.6 MB/s eta 0:00:27\n",
      "   ------ --------------------------------- 48.1/276.6 MB 8.6 MB/s eta 0:00:27\n",
      "   ------- -------------------------------- 48.5/276.6 MB 8.6 MB/s eta 0:00:27\n",
      "   ------- -------------------------------- 48.9/276.6 MB 8.8 MB/s eta 0:00:26\n",
      "   ------- -------------------------------- 49.3/276.6 MB 8.7 MB/s eta 0:00:27\n",
      "   ------- -------------------------------- 49.8/276.6 MB 8.7 MB/s eta 0:00:26\n",
      "   ------- -------------------------------- 50.2/276.6 MB 9.0 MB/s eta 0:00:26\n",
      "   ------- -------------------------------- 50.6/276.6 MB 9.0 MB/s eta 0:00:26\n",
      "   ------- -------------------------------- 51.0/276.6 MB 9.0 MB/s eta 0:00:26\n",
      "   ------- -------------------------------- 51.4/276.6 MB 9.0 MB/s eta 0:00:26\n",
      "   ------- -------------------------------- 52.0/276.6 MB 9.0 MB/s eta 0:00:26\n",
      "   ------- -------------------------------- 52.4/276.6 MB 8.8 MB/s eta 0:00:26\n",
      "   ------- -------------------------------- 52.8/276.6 MB 8.8 MB/s eta 0:00:26\n",
      "   ------- -------------------------------- 53.3/276.6 MB 8.7 MB/s eta 0:00:26\n",
      "   ------- -------------------------------- 53.9/276.6 MB 8.8 MB/s eta 0:00:26\n",
      "   ------- -------------------------------- 54.3/276.6 MB 8.8 MB/s eta 0:00:26\n",
      "   ------- -------------------------------- 54.8/276.6 MB 8.8 MB/s eta 0:00:26\n",
      "   ------- -------------------------------- 55.2/276.6 MB 8.8 MB/s eta 0:00:26\n",
      "   -------- ------------------------------- 55.6/276.6 MB 8.8 MB/s eta 0:00:25\n",
      "   -------- ------------------------------- 56.0/276.6 MB 8.8 MB/s eta 0:00:25\n",
      "   -------- ------------------------------- 56.4/276.6 MB 8.7 MB/s eta 0:00:26\n",
      "   -------- ------------------------------- 56.8/276.6 MB 8.8 MB/s eta 0:00:25\n",
      "   -------- ------------------------------- 57.2/276.6 MB 8.8 MB/s eta 0:00:25\n",
      "   -------- ------------------------------- 57.6/276.6 MB 8.7 MB/s eta 0:00:26\n",
      "   -------- ------------------------------- 58.0/276.6 MB 8.7 MB/s eta 0:00:26\n",
      "   -------- ------------------------------- 58.4/276.6 MB 8.7 MB/s eta 0:00:25\n",
      "   -------- ------------------------------- 58.8/276.6 MB 8.7 MB/s eta 0:00:25\n",
      "   -------- ------------------------------- 59.1/276.6 MB 8.6 MB/s eta 0:00:26\n",
      "   -------- ------------------------------- 59.6/276.6 MB 8.6 MB/s eta 0:00:26\n",
      "   -------- ------------------------------- 60.1/276.6 MB 8.6 MB/s eta 0:00:26\n",
      "   -------- ------------------------------- 60.5/276.6 MB 8.5 MB/s eta 0:00:26\n",
      "   -------- ------------------------------- 60.8/276.6 MB 8.5 MB/s eta 0:00:26\n",
      "   -------- ------------------------------- 61.3/276.6 MB 8.4 MB/s eta 0:00:26\n",
      "   -------- ------------------------------- 61.6/276.6 MB 8.3 MB/s eta 0:00:26\n",
      "   -------- ------------------------------- 62.0/276.6 MB 8.2 MB/s eta 0:00:27\n",
      "   --------- ------------------------------ 62.3/276.6 MB 8.2 MB/s eta 0:00:27\n",
      "   --------- ------------------------------ 62.6/276.6 MB 8.2 MB/s eta 0:00:27\n",
      "   --------- ------------------------------ 63.0/276.6 MB 8.2 MB/s eta 0:00:27\n",
      "   --------- ------------------------------ 63.4/276.6 MB 8.2 MB/s eta 0:00:27\n",
      "   --------- ------------------------------ 63.7/276.6 MB 8.2 MB/s eta 0:00:27\n",
      "   --------- ------------------------------ 64.2/276.6 MB 8.2 MB/s eta 0:00:26\n",
      "   --------- ------------------------------ 64.5/276.6 MB 8.1 MB/s eta 0:00:27\n",
      "   --------- ------------------------------ 64.9/276.6 MB 8.1 MB/s eta 0:00:27\n",
      "   --------- ------------------------------ 65.4/276.6 MB 8.1 MB/s eta 0:00:27\n",
      "   --------- ------------------------------ 65.8/276.6 MB 8.1 MB/s eta 0:00:27\n",
      "   --------- ------------------------------ 66.2/276.6 MB 8.1 MB/s eta 0:00:27\n",
      "   --------- ------------------------------ 66.4/276.6 MB 8.0 MB/s eta 0:00:27\n",
      "   --------- ------------------------------ 66.8/276.6 MB 8.1 MB/s eta 0:00:26\n",
      "   --------- ------------------------------ 67.2/276.6 MB 7.9 MB/s eta 0:00:27\n",
      "   --------- ------------------------------ 67.5/276.6 MB 7.9 MB/s eta 0:00:27\n",
      "   --------- ------------------------------ 68.1/276.6 MB 7.9 MB/s eta 0:00:27\n",
      "   --------- ------------------------------ 68.5/276.6 MB 8.0 MB/s eta 0:00:27\n",
      "   --------- ------------------------------ 69.1/276.6 MB 7.9 MB/s eta 0:00:27\n",
      "   ---------- ----------------------------- 69.7/276.6 MB 8.1 MB/s eta 0:00:26\n",
      "   ---------- ----------------------------- 70.1/276.6 MB 8.1 MB/s eta 0:00:26\n",
      "   ---------- ----------------------------- 70.5/276.6 MB 8.1 MB/s eta 0:00:26\n",
      "   ---------- ----------------------------- 70.8/276.6 MB 8.1 MB/s eta 0:00:26\n",
      "   ---------- ----------------------------- 71.2/276.6 MB 8.2 MB/s eta 0:00:26\n",
      "   ---------- ----------------------------- 71.7/276.6 MB 8.4 MB/s eta 0:00:25\n",
      "   ---------- ----------------------------- 72.1/276.6 MB 8.3 MB/s eta 0:00:25\n",
      "   ---------- ----------------------------- 72.6/276.6 MB 8.5 MB/s eta 0:00:24\n",
      "   ---------- ----------------------------- 72.9/276.6 MB 8.6 MB/s eta 0:00:24\n",
      "   ---------- ----------------------------- 73.6/276.6 MB 8.5 MB/s eta 0:00:24\n",
      "   ---------- ----------------------------- 73.9/276.6 MB 8.6 MB/s eta 0:00:24\n",
      "   ---------- ----------------------------- 74.3/276.6 MB 8.6 MB/s eta 0:00:24\n",
      "   ---------- ----------------------------- 74.9/276.6 MB 8.6 MB/s eta 0:00:24\n",
      "   ---------- ----------------------------- 75.4/276.6 MB 8.7 MB/s eta 0:00:24\n",
      "   ---------- ----------------------------- 75.9/276.6 MB 8.7 MB/s eta 0:00:23\n",
      "   ----------- ---------------------------- 76.2/276.6 MB 8.7 MB/s eta 0:00:23\n",
      "   ----------- ---------------------------- 76.7/276.6 MB 8.8 MB/s eta 0:00:23\n",
      "   ----------- ---------------------------- 77.1/276.6 MB 9.0 MB/s eta 0:00:23\n",
      "   ----------- ---------------------------- 77.5/276.6 MB 9.0 MB/s eta 0:00:23\n",
      "   ----------- ---------------------------- 77.9/276.6 MB 9.0 MB/s eta 0:00:23\n",
      "   ----------- ---------------------------- 78.3/276.6 MB 9.0 MB/s eta 0:00:23\n",
      "   ----------- ---------------------------- 78.7/276.6 MB 9.0 MB/s eta 0:00:23\n",
      "   ----------- ---------------------------- 79.3/276.6 MB 9.0 MB/s eta 0:00:22\n",
      "   ----------- ---------------------------- 79.7/276.6 MB 8.8 MB/s eta 0:00:23\n",
      "   ----------- ---------------------------- 80.1/276.6 MB 9.0 MB/s eta 0:00:22\n",
      "   ----------- ---------------------------- 80.5/276.6 MB 8.8 MB/s eta 0:00:23\n",
      "   ----------- ---------------------------- 80.8/276.6 MB 8.7 MB/s eta 0:00:23\n",
      "   ----------- ---------------------------- 81.2/276.6 MB 8.7 MB/s eta 0:00:23\n",
      "   ----------- ---------------------------- 81.7/276.6 MB 8.8 MB/s eta 0:00:23\n",
      "   ----------- ---------------------------- 82.1/276.6 MB 8.8 MB/s eta 0:00:22\n",
      "   ----------- ---------------------------- 82.6/276.6 MB 9.0 MB/s eta 0:00:22\n",
      "   ----------- ---------------------------- 83.0/276.6 MB 8.8 MB/s eta 0:00:22\n",
      "   ------------ --------------------------- 83.4/276.6 MB 8.8 MB/s eta 0:00:22\n",
      "   ------------ --------------------------- 83.8/276.6 MB 8.8 MB/s eta 0:00:22\n",
      "   ------------ --------------------------- 84.3/276.6 MB 9.0 MB/s eta 0:00:22\n",
      "   ------------ --------------------------- 84.7/276.6 MB 9.0 MB/s eta 0:00:22\n",
      "   ------------ --------------------------- 85.2/276.6 MB 9.1 MB/s eta 0:00:22\n",
      "   ------------ --------------------------- 85.5/276.6 MB 9.0 MB/s eta 0:00:22\n",
      "   ------------ --------------------------- 86.2/276.6 MB 9.0 MB/s eta 0:00:22\n",
      "   ------------ --------------------------- 86.8/276.6 MB 9.0 MB/s eta 0:00:22\n",
      "   ------------ --------------------------- 87.3/276.6 MB 9.0 MB/s eta 0:00:22\n",
      "   ------------ --------------------------- 87.8/276.6 MB 9.1 MB/s eta 0:00:21\n",
      "   ------------ --------------------------- 88.2/276.6 MB 9.1 MB/s eta 0:00:21\n",
      "   ------------ --------------------------- 88.6/276.6 MB 9.1 MB/s eta 0:00:21\n",
      "   ------------ --------------------------- 89.1/276.6 MB 9.1 MB/s eta 0:00:21\n",
      "   ------------ --------------------------- 89.5/276.6 MB 9.1 MB/s eta 0:00:21\n",
      "   ------------- -------------------------- 89.9/276.6 MB 9.2 MB/s eta 0:00:21\n",
      "   ------------- -------------------------- 90.3/276.6 MB 9.1 MB/s eta 0:00:21\n",
      "   ------------- -------------------------- 90.6/276.6 MB 9.0 MB/s eta 0:00:21\n",
      "   ------------- -------------------------- 91.1/276.6 MB 9.2 MB/s eta 0:00:21\n",
      "   ------------- -------------------------- 91.5/276.6 MB 9.1 MB/s eta 0:00:21\n",
      "   ------------- -------------------------- 92.1/276.6 MB 9.2 MB/s eta 0:00:21\n",
      "   ------------- -------------------------- 92.3/276.6 MB 9.2 MB/s eta 0:00:20\n",
      "   ------------- -------------------------- 92.8/276.6 MB 9.1 MB/s eta 0:00:21\n",
      "   ------------- -------------------------- 93.1/276.6 MB 9.0 MB/s eta 0:00:21\n",
      "   ------------- -------------------------- 93.5/276.6 MB 9.0 MB/s eta 0:00:21\n",
      "   ------------- -------------------------- 93.9/276.6 MB 9.0 MB/s eta 0:00:21\n",
      "   ------------- -------------------------- 94.2/276.6 MB 8.8 MB/s eta 0:00:21\n",
      "   ------------- -------------------------- 94.6/276.6 MB 8.7 MB/s eta 0:00:21\n",
      "   ------------- -------------------------- 94.9/276.6 MB 8.6 MB/s eta 0:00:22\n",
      "   ------------- -------------------------- 95.3/276.6 MB 8.6 MB/s eta 0:00:22\n",
      "   ------------- -------------------------- 95.7/276.6 MB 8.5 MB/s eta 0:00:22\n",
      "   ------------- -------------------------- 96.1/276.6 MB 8.5 MB/s eta 0:00:22\n",
      "   ------------- -------------------------- 96.5/276.6 MB 8.5 MB/s eta 0:00:22\n",
      "   -------------- ------------------------- 96.8/276.6 MB 8.3 MB/s eta 0:00:22\n",
      "   -------------- ------------------------- 97.2/276.6 MB 8.3 MB/s eta 0:00:22\n",
      "   -------------- ------------------------- 97.6/276.6 MB 8.3 MB/s eta 0:00:22\n",
      "   -------------- ------------------------- 98.0/276.6 MB 8.2 MB/s eta 0:00:22\n",
      "   -------------- ------------------------- 98.4/276.6 MB 8.2 MB/s eta 0:00:22\n",
      "   -------------- ------------------------- 98.8/276.6 MB 8.1 MB/s eta 0:00:22\n",
      "   -------------- ------------------------- 99.1/276.6 MB 8.1 MB/s eta 0:00:22\n",
      "   -------------- ------------------------- 99.5/276.6 MB 8.0 MB/s eta 0:00:23\n",
      "   -------------- ------------------------- 99.9/276.6 MB 7.9 MB/s eta 0:00:23\n",
      "   -------------- ------------------------- 100.2/276.6 MB 8.0 MB/s eta 0:00:23\n",
      "   -------------- ------------------------- 100.6/276.6 MB 7.9 MB/s eta 0:00:23\n",
      "   -------------- ------------------------- 101.1/276.6 MB 8.0 MB/s eta 0:00:22\n",
      "   -------------- ------------------------- 101.5/276.6 MB 8.0 MB/s eta 0:00:22\n",
      "   -------------- ------------------------- 101.7/276.6 MB 7.9 MB/s eta 0:00:23\n",
      "   -------------- ------------------------- 102.3/276.6 MB 7.8 MB/s eta 0:00:23\n",
      "   -------------- ------------------------- 102.7/276.6 MB 8.0 MB/s eta 0:00:22\n",
      "   -------------- ------------------------- 103.1/276.6 MB 8.0 MB/s eta 0:00:22\n",
      "   -------------- ------------------------- 103.5/276.6 MB 8.0 MB/s eta 0:00:22\n",
      "   --------------- ------------------------ 103.9/276.6 MB 8.0 MB/s eta 0:00:22\n",
      "   --------------- ------------------------ 104.5/276.6 MB 8.1 MB/s eta 0:00:22\n",
      "   --------------- ------------------------ 104.8/276.6 MB 8.0 MB/s eta 0:00:22\n",
      "   --------------- ------------------------ 105.2/276.6 MB 8.1 MB/s eta 0:00:22\n",
      "   --------------- ------------------------ 105.6/276.6 MB 8.2 MB/s eta 0:00:21\n",
      "   --------------- ------------------------ 106.0/276.6 MB 8.2 MB/s eta 0:00:21\n",
      "   --------------- ------------------------ 106.4/276.6 MB 8.2 MB/s eta 0:00:21\n",
      "   --------------- ------------------------ 106.8/276.6 MB 8.3 MB/s eta 0:00:21\n",
      "   --------------- ------------------------ 107.3/276.6 MB 8.3 MB/s eta 0:00:21\n",
      "   --------------- ------------------------ 107.7/276.6 MB 8.5 MB/s eta 0:00:20\n",
      "   --------------- ------------------------ 108.1/276.6 MB 8.5 MB/s eta 0:00:20\n",
      "   --------------- ------------------------ 108.6/276.6 MB 8.6 MB/s eta 0:00:20\n",
      "   --------------- ------------------------ 109.0/276.6 MB 8.6 MB/s eta 0:00:20\n",
      "   --------------- ------------------------ 109.4/276.6 MB 8.6 MB/s eta 0:00:20\n",
      "   --------------- ------------------------ 109.8/276.6 MB 8.6 MB/s eta 0:00:20\n",
      "   --------------- ------------------------ 110.4/276.6 MB 8.7 MB/s eta 0:00:20\n",
      "   ---------------- ----------------------- 110.8/276.6 MB 8.7 MB/s eta 0:00:19\n",
      "   ---------------- ----------------------- 111.3/276.6 MB 8.7 MB/s eta 0:00:19\n",
      "   ---------------- ----------------------- 111.8/276.6 MB 9.0 MB/s eta 0:00:19\n",
      "   ---------------- ----------------------- 112.2/276.6 MB 9.0 MB/s eta 0:00:19\n",
      "   ---------------- ----------------------- 112.7/276.6 MB 9.0 MB/s eta 0:00:19\n",
      "   ---------------- ----------------------- 113.1/276.6 MB 9.0 MB/s eta 0:00:19\n",
      "   ---------------- ----------------------- 113.5/276.6 MB 9.0 MB/s eta 0:00:19\n",
      "   ---------------- ----------------------- 113.9/276.6 MB 9.0 MB/s eta 0:00:19\n",
      "   ---------------- ----------------------- 114.4/276.6 MB 9.0 MB/s eta 0:00:19\n",
      "   ---------------- ----------------------- 114.8/276.6 MB 9.1 MB/s eta 0:00:18\n",
      "   ---------------- ----------------------- 115.3/276.6 MB 9.1 MB/s eta 0:00:18\n",
      "   ---------------- ----------------------- 115.7/276.6 MB 9.2 MB/s eta 0:00:18\n",
      "   ---------------- ----------------------- 116.1/276.6 MB 9.2 MB/s eta 0:00:18\n",
      "   ---------------- ----------------------- 116.6/276.6 MB 9.2 MB/s eta 0:00:18\n",
      "   ---------------- ----------------------- 117.0/276.6 MB 9.1 MB/s eta 0:00:18\n",
      "   ---------------- ----------------------- 117.5/276.6 MB 9.2 MB/s eta 0:00:18\n",
      "   ----------------- ---------------------- 117.9/276.6 MB 9.2 MB/s eta 0:00:18\n",
      "   ----------------- ---------------------- 118.3/276.6 MB 9.1 MB/s eta 0:00:18\n",
      "   ----------------- ---------------------- 118.7/276.6 MB 9.1 MB/s eta 0:00:18\n",
      "   ----------------- ---------------------- 119.1/276.6 MB 9.2 MB/s eta 0:00:18\n",
      "   ----------------- ---------------------- 119.4/276.6 MB 9.1 MB/s eta 0:00:18\n",
      "   ----------------- ---------------------- 120.0/276.6 MB 9.1 MB/s eta 0:00:18\n",
      "   ----------------- ---------------------- 120.4/276.6 MB 9.1 MB/s eta 0:00:18\n",
      "   ----------------- ---------------------- 120.8/276.6 MB 9.0 MB/s eta 0:00:18\n",
      "   ----------------- ---------------------- 121.3/276.6 MB 9.0 MB/s eta 0:00:18\n",
      "   ----------------- ---------------------- 121.8/276.6 MB 9.0 MB/s eta 0:00:18\n",
      "   ----------------- ---------------------- 122.5/276.6 MB 9.1 MB/s eta 0:00:17\n",
      "   ----------------- ---------------------- 123.0/276.6 MB 9.1 MB/s eta 0:00:17\n",
      "   ----------------- ---------------------- 123.4/276.6 MB 9.1 MB/s eta 0:00:17\n",
      "   ----------------- ---------------------- 123.8/276.6 MB 9.1 MB/s eta 0:00:17\n",
      "   ----------------- ---------------------- 124.2/276.6 MB 9.1 MB/s eta 0:00:17\n",
      "   ------------------ --------------------- 124.7/276.6 MB 9.1 MB/s eta 0:00:17\n",
      "   ------------------ --------------------- 125.1/276.6 MB 9.1 MB/s eta 0:00:17\n",
      "   ------------------ --------------------- 125.5/276.6 MB 9.0 MB/s eta 0:00:17\n",
      "   ------------------ --------------------- 125.9/276.6 MB 9.0 MB/s eta 0:00:17\n",
      "   ------------------ --------------------- 126.4/276.6 MB 9.0 MB/s eta 0:00:17\n",
      "   ------------------ --------------------- 126.7/276.6 MB 8.8 MB/s eta 0:00:17\n",
      "   ------------------ --------------------- 127.1/276.6 MB 9.0 MB/s eta 0:00:17\n",
      "   ------------------ --------------------- 127.5/276.6 MB 8.8 MB/s eta 0:00:17\n",
      "   ------------------ --------------------- 127.9/276.6 MB 8.8 MB/s eta 0:00:17\n",
      "   ------------------ --------------------- 128.3/276.6 MB 8.8 MB/s eta 0:00:17\n",
      "   ------------------ --------------------- 128.8/276.6 MB 8.8 MB/s eta 0:00:17\n",
      "   ------------------ --------------------- 129.2/276.6 MB 9.0 MB/s eta 0:00:17\n",
      "   ------------------ --------------------- 129.6/276.6 MB 9.1 MB/s eta 0:00:17\n",
      "   ------------------ --------------------- 130.1/276.6 MB 9.1 MB/s eta 0:00:17\n",
      "   ------------------ --------------------- 130.7/276.6 MB 9.1 MB/s eta 0:00:17\n",
      "   ------------------ --------------------- 131.1/276.6 MB 9.1 MB/s eta 0:00:16\n",
      "   ------------------- -------------------- 131.5/276.6 MB 9.1 MB/s eta 0:00:16\n",
      "   ------------------- -------------------- 131.9/276.6 MB 9.1 MB/s eta 0:00:16\n",
      "   ------------------- -------------------- 132.4/276.6 MB 9.1 MB/s eta 0:00:16\n",
      "   ------------------- -------------------- 132.8/276.6 MB 9.1 MB/s eta 0:00:16\n",
      "   ------------------- -------------------- 133.3/276.6 MB 9.1 MB/s eta 0:00:16\n",
      "   ------------------- -------------------- 133.7/276.6 MB 9.2 MB/s eta 0:00:16\n",
      "   ------------------- -------------------- 134.2/276.6 MB 9.1 MB/s eta 0:00:16\n",
      "   ------------------- -------------------- 134.6/276.6 MB 9.1 MB/s eta 0:00:16\n",
      "   ------------------- -------------------- 135.0/276.6 MB 9.1 MB/s eta 0:00:16\n",
      "   ------------------- -------------------- 135.5/276.6 MB 9.1 MB/s eta 0:00:16\n",
      "   ------------------- -------------------- 135.8/276.6 MB 9.2 MB/s eta 0:00:16\n",
      "   ------------------- -------------------- 136.3/276.6 MB 9.2 MB/s eta 0:00:16\n",
      "   ------------------- -------------------- 136.8/276.6 MB 9.2 MB/s eta 0:00:16\n",
      "   ------------------- -------------------- 137.0/276.6 MB 9.2 MB/s eta 0:00:16\n",
      "   ------------------- -------------------- 137.5/276.6 MB 9.4 MB/s eta 0:00:15\n",
      "   ------------------- -------------------- 138.0/276.6 MB 9.4 MB/s eta 0:00:15\n",
      "   -------------------- ------------------- 138.5/276.6 MB 9.4 MB/s eta 0:00:15\n",
      "   -------------------- ------------------- 138.8/276.6 MB 9.4 MB/s eta 0:00:15\n",
      "   -------------------- ------------------- 139.3/276.6 MB 9.4 MB/s eta 0:00:15\n",
      "   -------------------- ------------------- 139.8/276.6 MB 9.2 MB/s eta 0:00:15\n",
      "   -------------------- ------------------- 140.2/276.6 MB 9.4 MB/s eta 0:00:15\n",
      "   -------------------- ------------------- 140.7/276.6 MB 9.2 MB/s eta 0:00:15\n",
      "   -------------------- ------------------- 141.1/276.6 MB 9.4 MB/s eta 0:00:15\n",
      "   -------------------- ------------------- 141.6/276.6 MB 9.4 MB/s eta 0:00:15\n",
      "   -------------------- ------------------- 142.0/276.6 MB 9.4 MB/s eta 0:00:15\n",
      "   -------------------- ------------------- 142.4/276.6 MB 9.4 MB/s eta 0:00:15\n",
      "   -------------------- ------------------- 142.9/276.6 MB 9.5 MB/s eta 0:00:15\n",
      "   -------------------- ------------------- 143.3/276.6 MB 9.4 MB/s eta 0:00:15\n",
      "   -------------------- ------------------- 143.7/276.6 MB 9.4 MB/s eta 0:00:15\n",
      "   -------------------- ------------------- 144.1/276.6 MB 9.4 MB/s eta 0:00:15\n",
      "   -------------------- ------------------- 144.6/276.6 MB 9.4 MB/s eta 0:00:15\n",
      "   -------------------- ------------------- 145.0/276.6 MB 9.4 MB/s eta 0:00:15\n",
      "   --------------------- ------------------ 145.4/276.6 MB 9.4 MB/s eta 0:00:15\n",
      "   --------------------- ------------------ 145.8/276.6 MB 9.4 MB/s eta 0:00:14\n",
      "   --------------------- ------------------ 146.2/276.6 MB 9.4 MB/s eta 0:00:14\n",
      "   --------------------- ------------------ 146.7/276.6 MB 9.2 MB/s eta 0:00:15\n",
      "   --------------------- ------------------ 147.1/276.6 MB 9.4 MB/s eta 0:00:14\n",
      "   --------------------- ------------------ 147.5/276.6 MB 9.2 MB/s eta 0:00:15\n",
      "   --------------------- ------------------ 148.0/276.6 MB 9.4 MB/s eta 0:00:14\n",
      "   --------------------- ------------------ 148.4/276.6 MB 9.5 MB/s eta 0:00:14\n",
      "   --------------------- ------------------ 148.8/276.6 MB 9.5 MB/s eta 0:00:14\n",
      "   --------------------- ------------------ 149.2/276.6 MB 9.2 MB/s eta 0:00:14\n",
      "   --------------------- ------------------ 149.7/276.6 MB 9.2 MB/s eta 0:00:14\n",
      "   --------------------- ------------------ 150.2/276.6 MB 9.2 MB/s eta 0:00:14\n",
      "   --------------------- ------------------ 150.7/276.6 MB 9.2 MB/s eta 0:00:14\n",
      "   --------------------- ------------------ 151.2/276.6 MB 9.1 MB/s eta 0:00:14\n",
      "   --------------------- ------------------ 151.5/276.6 MB 9.0 MB/s eta 0:00:14\n",
      "   --------------------- ------------------ 152.0/276.6 MB 9.1 MB/s eta 0:00:14\n",
      "   ---------------------- ----------------- 152.4/276.6 MB 9.1 MB/s eta 0:00:14\n",
      "   ---------------------- ----------------- 152.9/276.6 MB 9.1 MB/s eta 0:00:14\n",
      "   ---------------------- ----------------- 153.5/276.6 MB 9.0 MB/s eta 0:00:14\n",
      "   ---------------------- ----------------- 154.1/276.6 MB 9.1 MB/s eta 0:00:14\n",
      "   ---------------------- ----------------- 154.5/276.6 MB 9.1 MB/s eta 0:00:14\n",
      "   ---------------------- ----------------- 155.0/276.6 MB 9.1 MB/s eta 0:00:14\n",
      "   ---------------------- ----------------- 155.3/276.6 MB 9.0 MB/s eta 0:00:14\n",
      "   ---------------------- ----------------- 155.6/276.6 MB 9.1 MB/s eta 0:00:14\n",
      "   ---------------------- ----------------- 156.2/276.6 MB 9.1 MB/s eta 0:00:14\n",
      "   ---------------------- ----------------- 156.6/276.6 MB 9.1 MB/s eta 0:00:14\n",
      "   ---------------------- ----------------- 156.9/276.6 MB 9.0 MB/s eta 0:00:14\n",
      "   ---------------------- ----------------- 157.4/276.6 MB 9.0 MB/s eta 0:00:14\n",
      "   ---------------------- ----------------- 157.9/276.6 MB 9.1 MB/s eta 0:00:14\n",
      "   ---------------------- ----------------- 158.2/276.6 MB 9.0 MB/s eta 0:00:14\n",
      "   ---------------------- ----------------- 158.7/276.6 MB 9.0 MB/s eta 0:00:14\n",
      "   ----------------------- ---------------- 159.1/276.6 MB 9.1 MB/s eta 0:00:13\n",
      "   ----------------------- ---------------- 159.4/276.6 MB 9.1 MB/s eta 0:00:13\n",
      "   ----------------------- ---------------- 160.0/276.6 MB 9.0 MB/s eta 0:00:13\n",
      "   ----------------------- ---------------- 160.4/276.6 MB 8.8 MB/s eta 0:00:14\n",
      "   ----------------------- ---------------- 160.8/276.6 MB 8.8 MB/s eta 0:00:14\n",
      "   ----------------------- ---------------- 161.2/276.6 MB 9.1 MB/s eta 0:00:13\n",
      "   ----------------------- ---------------- 161.6/276.6 MB 9.0 MB/s eta 0:00:13\n",
      "   ----------------------- ---------------- 162.0/276.6 MB 9.0 MB/s eta 0:00:13\n",
      "   ----------------------- ---------------- 162.5/276.6 MB 9.0 MB/s eta 0:00:13\n",
      "   ----------------------- ---------------- 162.9/276.6 MB 9.0 MB/s eta 0:00:13\n",
      "   ----------------------- ---------------- 163.3/276.6 MB 9.0 MB/s eta 0:00:13\n",
      "   ----------------------- ---------------- 163.8/276.6 MB 8.8 MB/s eta 0:00:13\n",
      "   ----------------------- ---------------- 164.2/276.6 MB 9.0 MB/s eta 0:00:13\n",
      "   ----------------------- ---------------- 164.6/276.6 MB 8.8 MB/s eta 0:00:13\n",
      "   ----------------------- ---------------- 164.9/276.6 MB 9.0 MB/s eta 0:00:13\n",
      "   ----------------------- ---------------- 165.4/276.6 MB 8.8 MB/s eta 0:00:13\n",
      "   ----------------------- ---------------- 165.9/276.6 MB 8.8 MB/s eta 0:00:13\n",
      "   ------------------------ --------------- 166.3/276.6 MB 8.6 MB/s eta 0:00:13\n",
      "   ------------------------ --------------- 166.6/276.6 MB 8.6 MB/s eta 0:00:13\n",
      "   ------------------------ --------------- 167.0/276.6 MB 8.5 MB/s eta 0:00:13\n",
      "   ------------------------ --------------- 167.3/276.6 MB 8.6 MB/s eta 0:00:13\n",
      "   ------------------------ --------------- 167.8/276.6 MB 8.5 MB/s eta 0:00:13\n",
      "   ------------------------ --------------- 168.2/276.6 MB 8.4 MB/s eta 0:00:13\n",
      "   ------------------------ --------------- 168.5/276.6 MB 8.5 MB/s eta 0:00:13\n",
      "   ------------------------ --------------- 168.9/276.6 MB 8.4 MB/s eta 0:00:13\n",
      "   ------------------------ --------------- 169.3/276.6 MB 8.3 MB/s eta 0:00:13\n",
      "   ------------------------ --------------- 169.6/276.6 MB 8.3 MB/s eta 0:00:13\n",
      "   ------------------------ --------------- 170.0/276.6 MB 8.4 MB/s eta 0:00:13\n",
      "   ------------------------ --------------- 170.3/276.6 MB 8.3 MB/s eta 0:00:13\n",
      "   ------------------------ --------------- 170.7/276.6 MB 8.3 MB/s eta 0:00:13\n",
      "   ------------------------ --------------- 171.1/276.6 MB 8.2 MB/s eta 0:00:13\n",
      "   ------------------------ --------------- 171.3/276.6 MB 8.1 MB/s eta 0:00:14\n",
      "   ------------------------ --------------- 171.8/276.6 MB 8.1 MB/s eta 0:00:13\n",
      "   ------------------------ --------------- 172.2/276.6 MB 8.0 MB/s eta 0:00:14\n",
      "   ------------------------ --------------- 172.8/276.6 MB 8.0 MB/s eta 0:00:13\n",
      "   ------------------------- -------------- 173.1/276.6 MB 8.0 MB/s eta 0:00:13\n",
      "   ------------------------- -------------- 173.5/276.6 MB 8.0 MB/s eta 0:00:13\n",
      "   ------------------------- -------------- 173.9/276.6 MB 7.9 MB/s eta 0:00:14\n",
      "   ------------------------- -------------- 174.2/276.6 MB 7.9 MB/s eta 0:00:13\n",
      "   ------------------------- -------------- 174.2/276.6 MB 7.9 MB/s eta 0:00:13\n",
      "   ------------------------- -------------- 175.2/276.6 MB 8.1 MB/s eta 0:00:13\n",
      "   ------------------------- -------------- 175.6/276.6 MB 8.0 MB/s eta 0:00:13\n",
      "   ------------------------- -------------- 176.1/276.6 MB 8.0 MB/s eta 0:00:13\n",
      "   ------------------------- -------------- 176.5/276.6 MB 8.0 MB/s eta 0:00:13\n",
      "   ------------------------- -------------- 177.0/276.6 MB 8.1 MB/s eta 0:00:13\n",
      "   ------------------------- -------------- 177.2/276.6 MB 8.1 MB/s eta 0:00:13\n",
      "   ------------------------- -------------- 177.2/276.6 MB 8.1 MB/s eta 0:00:13\n",
      "   ------------------------- -------------- 177.2/276.6 MB 8.1 MB/s eta 0:00:13\n",
      "   ------------------------- -------------- 177.2/276.6 MB 8.1 MB/s eta 0:00:13\n",
      "   ------------------------- -------------- 177.2/276.6 MB 8.1 MB/s eta 0:00:13\n",
      "   ------------------------- -------------- 177.2/276.6 MB 8.1 MB/s eta 0:00:13\n",
      "   ------------------------- -------------- 177.2/276.6 MB 8.1 MB/s eta 0:00:13\n",
      "   ------------------------- -------------- 178.1/276.6 MB 6.8 MB/s eta 0:00:15\n",
      "   ------------------------- -------------- 179.4/276.6 MB 7.4 MB/s eta 0:00:14\n",
      "   -------------------------- ------------- 180.2/276.6 MB 7.8 MB/s eta 0:00:13\n",
      "   -------------------------- ------------- 180.8/276.6 MB 7.8 MB/s eta 0:00:13\n",
      "   -------------------------- ------------- 181.3/276.6 MB 7.9 MB/s eta 0:00:13\n",
      "   -------------------------- ------------- 181.8/276.6 MB 8.0 MB/s eta 0:00:12\n",
      "   -------------------------- ------------- 182.2/276.6 MB 8.0 MB/s eta 0:00:12\n",
      "   -------------------------- ------------- 182.7/276.6 MB 8.0 MB/s eta 0:00:12\n",
      "   -------------------------- ------------- 183.1/276.6 MB 8.0 MB/s eta 0:00:12\n",
      "   -------------------------- ------------- 183.7/276.6 MB 8.0 MB/s eta 0:00:12\n",
      "   -------------------------- ------------- 184.1/276.6 MB 8.1 MB/s eta 0:00:12\n",
      "   -------------------------- ------------- 184.5/276.6 MB 8.6 MB/s eta 0:00:11\n",
      "   -------------------------- ------------- 184.5/276.6 MB 8.6 MB/s eta 0:00:11\n",
      "   -------------------------- ------------- 184.5/276.6 MB 8.6 MB/s eta 0:00:11\n",
      "   -------------------------- ------------- 184.5/276.6 MB 8.6 MB/s eta 0:00:11\n",
      "   -------------------------- ------------- 184.5/276.6 MB 8.6 MB/s eta 0:00:11\n",
      "   -------------------------- ------------- 184.5/276.6 MB 8.6 MB/s eta 0:00:11\n",
      "   -------------------------- ------------- 184.5/276.6 MB 8.6 MB/s eta 0:00:11\n",
      "   -------------------------- ------------- 184.5/276.6 MB 8.6 MB/s eta 0:00:11\n",
      "   -------------------------- ------------- 184.5/276.6 MB 8.6 MB/s eta 0:00:11\n",
      "   -------------------------- ------------- 184.6/276.6 MB 6.4 MB/s eta 0:00:15\n",
      "   --------------------------- ------------ 186.8/276.6 MB 7.0 MB/s eta 0:00:13\n",
      "   --------------------------- ------------ 187.2/276.6 MB 7.0 MB/s eta 0:00:13\n",
      "   --------------------------- ------------ 187.6/276.6 MB 8.6 MB/s eta 0:00:11\n",
      "   --------------------------- ------------ 188.0/276.6 MB 8.3 MB/s eta 0:00:11\n",
      "   --------------------------- ------------ 188.4/276.6 MB 8.1 MB/s eta 0:00:11\n",
      "   --------------------------- ------------ 188.7/276.6 MB 7.9 MB/s eta 0:00:12\n",
      "   --------------------------- ------------ 189.1/276.6 MB 7.6 MB/s eta 0:00:12\n",
      "   --------------------------- ------------ 189.4/276.6 MB 7.4 MB/s eta 0:00:12\n",
      "   --------------------------- ------------ 189.8/276.6 MB 7.3 MB/s eta 0:00:12\n",
      "   --------------------------- ------------ 190.1/276.6 MB 7.0 MB/s eta 0:00:13\n",
      "   --------------------------- ------------ 190.5/276.6 MB 7.0 MB/s eta 0:00:13\n",
      "   --------------------------- ------------ 190.8/276.6 MB 7.0 MB/s eta 0:00:13\n",
      "   --------------------------- ------------ 191.1/276.6 MB 7.0 MB/s eta 0:00:13\n",
      "   --------------------------- ------------ 191.5/276.6 MB 6.9 MB/s eta 0:00:13\n",
      "   --------------------------- ------------ 191.8/276.6 MB 6.9 MB/s eta 0:00:13\n",
      "   --------------------------- ------------ 192.2/276.6 MB 6.9 MB/s eta 0:00:13\n",
      "   --------------------------- ------------ 192.5/276.6 MB 6.9 MB/s eta 0:00:13\n",
      "   --------------------------- ------------ 192.8/276.6 MB 6.8 MB/s eta 0:00:13\n",
      "   --------------------------- ------------ 192.8/276.6 MB 6.8 MB/s eta 0:00:13\n",
      "   --------------------------- ------------ 192.8/276.6 MB 6.8 MB/s eta 0:00:13\n",
      "   --------------------------- ------------ 192.8/276.6 MB 6.8 MB/s eta 0:00:13\n",
      "   --------------------------- ------------ 192.8/276.6 MB 6.8 MB/s eta 0:00:13\n",
      "   --------------------------- ------------ 192.8/276.6 MB 6.8 MB/s eta 0:00:13\n",
      "   --------------------------- ------------ 192.8/276.6 MB 6.8 MB/s eta 0:00:13\n",
      "   --------------------------- ------------ 192.8/276.6 MB 6.8 MB/s eta 0:00:13\n",
      "   --------------------------- ------------ 192.8/276.6 MB 6.8 MB/s eta 0:00:13\n",
      "   --------------------------- ------------ 192.8/276.6 MB 6.8 MB/s eta 0:00:13\n",
      "   --------------------------- ------------ 192.8/276.6 MB 6.8 MB/s eta 0:00:13\n",
      "   ---------------------------- ----------- 194.2/276.6 MB 5.3 MB/s eta 0:00:16\n",
      "   ---------------------------- ----------- 195.4/276.6 MB 7.0 MB/s eta 0:00:12\n",
      "   ---------------------------- ----------- 195.7/276.6 MB 6.8 MB/s eta 0:00:12\n",
      "   ---------------------------- ----------- 196.0/276.6 MB 6.6 MB/s eta 0:00:13\n",
      "   ---------------------------- ----------- 196.3/276.6 MB 6.4 MB/s eta 0:00:13\n",
      "   ---------------------------- ----------- 196.7/276.6 MB 6.3 MB/s eta 0:00:13\n",
      "   ---------------------------- ----------- 197.0/276.6 MB 6.1 MB/s eta 0:00:14\n",
      "   ---------------------------- ----------- 197.4/276.6 MB 6.2 MB/s eta 0:00:13\n",
      "   ---------------------------- ----------- 197.8/276.6 MB 6.1 MB/s eta 0:00:13\n",
      "   ---------------------------- ----------- 198.1/276.6 MB 6.2 MB/s eta 0:00:13\n",
      "   ---------------------------- ----------- 198.5/276.6 MB 6.2 MB/s eta 0:00:13\n",
      "   ---------------------------- ----------- 198.8/276.6 MB 6.2 MB/s eta 0:00:13\n",
      "   ---------------------------- ----------- 199.2/276.6 MB 6.2 MB/s eta 0:00:13\n",
      "   ---------------------------- ----------- 199.5/276.6 MB 6.2 MB/s eta 0:00:13\n",
      "   ---------------------------- ----------- 199.9/276.6 MB 6.2 MB/s eta 0:00:13\n",
      "   ---------------------------- ----------- 200.3/276.6 MB 6.2 MB/s eta 0:00:13\n",
      "   ----------------------------- ---------- 200.5/276.6 MB 6.2 MB/s eta 0:00:13\n",
      "   ----------------------------- ---------- 201.1/276.6 MB 6.2 MB/s eta 0:00:13\n",
      "   ----------------------------- ---------- 201.1/276.6 MB 6.2 MB/s eta 0:00:13\n",
      "   ----------------------------- ---------- 201.1/276.6 MB 6.2 MB/s eta 0:00:13\n",
      "   ----------------------------- ---------- 201.1/276.6 MB 6.2 MB/s eta 0:00:13\n",
      "   ----------------------------- ---------- 201.1/276.6 MB 6.2 MB/s eta 0:00:13\n",
      "   ----------------------------- ---------- 201.1/276.6 MB 6.2 MB/s eta 0:00:13\n",
      "   ----------------------------- ---------- 201.1/276.6 MB 6.2 MB/s eta 0:00:13\n",
      "   ----------------------------- ---------- 202.9/276.6 MB 5.9 MB/s eta 0:00:13\n",
      "   ----------------------------- ---------- 203.7/276.6 MB 8.6 MB/s eta 0:00:09\n",
      "   ----------------------------- ---------- 204.1/276.6 MB 8.3 MB/s eta 0:00:09\n",
      "   ----------------------------- ---------- 204.4/276.6 MB 8.1 MB/s eta 0:00:09\n",
      "   ----------------------------- ---------- 204.9/276.6 MB 7.9 MB/s eta 0:00:10\n",
      "   ----------------------------- ---------- 205.2/276.6 MB 7.6 MB/s eta 0:00:10\n",
      "   ----------------------------- ---------- 205.7/276.6 MB 7.4 MB/s eta 0:00:10\n",
      "   ----------------------------- ---------- 205.9/276.6 MB 7.5 MB/s eta 0:00:10\n",
      "   ----------------------------- ---------- 205.9/276.6 MB 7.5 MB/s eta 0:00:10\n",
      "   ----------------------------- ---------- 205.9/276.6 MB 7.5 MB/s eta 0:00:10\n",
      "   ----------------------------- ---------- 205.9/276.6 MB 7.5 MB/s eta 0:00:10\n",
      "   ----------------------------- ---------- 205.9/276.6 MB 7.5 MB/s eta 0:00:10\n",
      "   ----------------------------- ---------- 205.9/276.6 MB 7.5 MB/s eta 0:00:10\n",
      "   ----------------------------- ---------- 205.9/276.6 MB 7.5 MB/s eta 0:00:10\n",
      "   ----------------------------- ---------- 205.9/276.6 MB 7.5 MB/s eta 0:00:10\n",
      "   ----------------------------- ---------- 205.9/276.6 MB 7.5 MB/s eta 0:00:10\n",
      "   ----------------------------- ---------- 205.9/276.6 MB 7.5 MB/s eta 0:00:10\n",
      "   ----------------------------- ---------- 205.9/276.6 MB 7.5 MB/s eta 0:00:10\n",
      "   ----------------------------- ---------- 205.9/276.6 MB 7.5 MB/s eta 0:00:10\n",
      "   ----------------------------- ---------- 205.9/276.6 MB 7.5 MB/s eta 0:00:10\n",
      "   ----------------------------- ---------- 205.9/276.6 MB 7.5 MB/s eta 0:00:10\n",
      "   ----------------------------- ---------- 205.9/276.6 MB 7.5 MB/s eta 0:00:10\n",
      "   ----------------------------- ---------- 205.9/276.6 MB 7.5 MB/s eta 0:00:10\n",
      "   ----------------------------- ---------- 205.9/276.6 MB 7.5 MB/s eta 0:00:10\n",
      "   ----------------------------- ---------- 205.9/276.6 MB 7.5 MB/s eta 0:00:10\n",
      "   ----------------------------- ---------- 205.9/276.6 MB 7.5 MB/s eta 0:00:10\n",
      "   ----------------------------- ---------- 206.8/276.6 MB 4.7 MB/s eta 0:00:15\n",
      "   ------------------------------ --------- 208.3/276.6 MB 5.0 MB/s eta 0:00:14\n",
      "   ------------------------------ --------- 208.7/276.6 MB 5.0 MB/s eta 0:00:14\n",
      "   ------------------------------ --------- 209.0/276.6 MB 5.1 MB/s eta 0:00:14\n",
      "   ------------------------------ --------- 209.4/276.6 MB 5.0 MB/s eta 0:00:14\n",
      "   ------------------------------ --------- 209.8/276.6 MB 5.0 MB/s eta 0:00:14\n",
      "   ------------------------------ --------- 210.2/276.6 MB 5.0 MB/s eta 0:00:14\n",
      "   ------------------------------ --------- 210.6/276.6 MB 5.0 MB/s eta 0:00:14\n",
      "   ------------------------------ --------- 211.0/276.6 MB 5.1 MB/s eta 0:00:13\n",
      "   ------------------------------ --------- 211.4/276.6 MB 5.9 MB/s eta 0:00:12\n",
      "   ------------------------------ --------- 211.8/276.6 MB 5.8 MB/s eta 0:00:12\n",
      "   ------------------------------ --------- 212.2/276.6 MB 5.6 MB/s eta 0:00:12\n",
      "   ------------------------------ --------- 212.5/276.6 MB 5.5 MB/s eta 0:00:12\n",
      "   ------------------------------ --------- 212.9/276.6 MB 5.4 MB/s eta 0:00:12\n",
      "   ------------------------------ --------- 213.3/276.6 MB 5.2 MB/s eta 0:00:13\n",
      "   ------------------------------ --------- 213.6/276.6 MB 5.2 MB/s eta 0:00:13\n",
      "   ------------------------------ --------- 214.0/276.6 MB 5.2 MB/s eta 0:00:13\n",
      "   ------------------------------- -------- 214.4/276.6 MB 5.2 MB/s eta 0:00:13\n",
      "   ------------------------------- -------- 214.8/276.6 MB 5.2 MB/s eta 0:00:12\n",
      "   ------------------------------- -------- 215.3/276.6 MB 5.2 MB/s eta 0:00:12\n",
      "   ------------------------------- -------- 215.7/276.6 MB 5.2 MB/s eta 0:00:12\n",
      "   ------------------------------- -------- 216.1/276.6 MB 5.2 MB/s eta 0:00:12\n",
      "   ------------------------------- -------- 216.2/276.6 MB 9.8 MB/s eta 0:00:07\n",
      "   ------------------------------- -------- 216.2/276.6 MB 9.8 MB/s eta 0:00:07\n",
      "   ------------------------------- -------- 216.2/276.6 MB 9.8 MB/s eta 0:00:07\n",
      "   ------------------------------- -------- 216.2/276.6 MB 9.8 MB/s eta 0:00:07\n",
      "   ------------------------------- -------- 218.3/276.6 MB 8.1 MB/s eta 0:00:08\n",
      "   ------------------------------- -------- 218.4/276.6 MB 8.0 MB/s eta 0:00:08\n",
      "   ------------------------------- -------- 219.0/276.6 MB 8.0 MB/s eta 0:00:08\n",
      "   ------------------------------- -------- 219.4/276.6 MB 8.1 MB/s eta 0:00:08\n",
      "   ------------------------------- -------- 219.8/276.6 MB 8.1 MB/s eta 0:00:08\n",
      "   ------------------------------- -------- 220.0/276.6 MB 7.8 MB/s eta 0:00:08\n",
      "   ------------------------------- -------- 220.1/276.6 MB 7.6 MB/s eta 0:00:08\n",
      "   ------------------------------- -------- 220.4/276.6 MB 7.5 MB/s eta 0:00:08\n",
      "   -------------------------------- ------- 221.5/276.6 MB 8.1 MB/s eta 0:00:07\n",
      "   -------------------------------- ------- 221.8/276.6 MB 8.1 MB/s eta 0:00:07\n",
      "   -------------------------------- ------- 222.2/276.6 MB 8.2 MB/s eta 0:00:07\n",
      "   -------------------------------- ------- 222.6/276.6 MB 8.2 MB/s eta 0:00:07\n",
      "   -------------------------------- ------- 223.0/276.6 MB 8.2 MB/s eta 0:00:07\n",
      "   -------------------------------- ------- 223.4/276.6 MB 8.2 MB/s eta 0:00:07\n",
      "   -------------------------------- ------- 223.5/276.6 MB 8.2 MB/s eta 0:00:07\n",
      "   -------------------------------- ------- 224.1/276.6 MB 8.1 MB/s eta 0:00:07\n",
      "   -------------------------------- ------- 224.5/276.6 MB 8.2 MB/s eta 0:00:07\n",
      "   -------------------------------- ------- 224.9/276.6 MB 8.2 MB/s eta 0:00:07\n",
      "   -------------------------------- ------- 225.3/276.6 MB 8.2 MB/s eta 0:00:07\n",
      "   -------------------------------- ------- 225.7/276.6 MB 8.2 MB/s eta 0:00:07\n",
      "   -------------------------------- ------- 226.1/276.6 MB 8.2 MB/s eta 0:00:07\n",
      "   -------------------------------- ------- 226.4/276.6 MB 8.2 MB/s eta 0:00:07\n",
      "   -------------------------------- ------- 226.8/276.6 MB 9.5 MB/s eta 0:00:06\n",
      "   -------------------------------- ------- 227.0/276.6 MB 9.1 MB/s eta 0:00:06\n",
      "   -------------------------------- ------- 227.4/276.6 MB 8.8 MB/s eta 0:00:06\n",
      "   -------------------------------- ------- 227.8/276.6 MB 8.5 MB/s eta 0:00:06\n",
      "   --------------------------------- ------ 228.2/276.6 MB 8.3 MB/s eta 0:00:06\n",
      "   --------------------------------- ------ 228.8/276.6 MB 8.5 MB/s eta 0:00:06\n",
      "   --------------------------------- ------ 229.1/276.6 MB 8.3 MB/s eta 0:00:06\n",
      "   --------------------------------- ------ 229.6/276.6 MB 8.1 MB/s eta 0:00:06\n",
      "   --------------------------------- ------ 230.0/276.6 MB 8.1 MB/s eta 0:00:06\n",
      "   --------------------------------- ------ 230.2/276.6 MB 8.4 MB/s eta 0:00:06\n",
      "   --------------------------------- ------ 230.8/276.6 MB 8.6 MB/s eta 0:00:06\n",
      "   --------------------------------- ------ 231.2/276.6 MB 8.3 MB/s eta 0:00:06\n",
      "   --------------------------------- ------ 231.6/276.6 MB 8.1 MB/s eta 0:00:06\n",
      "   --------------------------------- ------ 232.0/276.6 MB 8.2 MB/s eta 0:00:06\n",
      "   --------------------------------- ------ 232.4/276.6 MB 8.2 MB/s eta 0:00:06\n",
      "   --------------------------------- ------ 232.8/276.6 MB 8.2 MB/s eta 0:00:06\n",
      "   --------------------------------- ------ 233.3/276.6 MB 8.2 MB/s eta 0:00:06\n",
      "   --------------------------------- ------ 233.7/276.6 MB 8.6 MB/s eta 0:00:05\n",
      "   --------------------------------- ------ 234.1/276.6 MB 8.3 MB/s eta 0:00:06\n",
      "   --------------------------------- ------ 234.5/276.6 MB 8.2 MB/s eta 0:00:06\n",
      "   --------------------------------- ------ 235.0/276.6 MB 8.3 MB/s eta 0:00:06\n",
      "   ---------------------------------- ----- 235.3/276.6 MB 8.3 MB/s eta 0:00:05\n",
      "   ---------------------------------- ----- 235.3/276.6 MB 8.3 MB/s eta 0:00:05\n",
      "   ---------------------------------- ----- 235.3/276.6 MB 8.3 MB/s eta 0:00:05\n",
      "   ---------------------------------- ----- 235.3/276.6 MB 8.3 MB/s eta 0:00:05\n",
      "   ---------------------------------- ----- 235.5/276.6 MB 7.3 MB/s eta 0:00:06\n",
      "   ---------------------------------- ----- 237.4/276.6 MB 8.5 MB/s eta 0:00:05\n",
      "   ---------------------------------- ----- 237.9/276.6 MB 8.6 MB/s eta 0:00:05\n",
      "   ---------------------------------- ----- 238.3/276.6 MB 8.6 MB/s eta 0:00:05\n",
      "   ---------------------------------- ----- 238.7/276.6 MB 8.6 MB/s eta 0:00:05\n",
      "   ---------------------------------- ----- 239.1/276.6 MB 8.6 MB/s eta 0:00:05\n",
      "   ---------------------------------- ----- 239.7/276.6 MB 8.6 MB/s eta 0:00:05\n",
      "   ---------------------------------- ----- 240.0/276.6 MB 8.6 MB/s eta 0:00:05\n",
      "   ---------------------------------- ----- 240.5/276.6 MB 9.0 MB/s eta 0:00:05\n",
      "   ---------------------------------- ----- 241.0/276.6 MB 8.6 MB/s eta 0:00:05\n",
      "   ---------------------------------- ----- 241.4/276.6 MB 8.5 MB/s eta 0:00:05\n",
      "   ---------------------------------- ----- 241.7/276.6 MB 8.5 MB/s eta 0:00:05\n",
      "   ----------------------------------- ---- 242.1/276.6 MB 8.5 MB/s eta 0:00:05\n",
      "   ----------------------------------- ---- 242.7/276.6 MB 8.4 MB/s eta 0:00:05\n",
      "   ----------------------------------- ---- 243.1/276.6 MB 8.5 MB/s eta 0:00:04\n",
      "   ----------------------------------- ---- 243.6/276.6 MB 8.4 MB/s eta 0:00:04\n",
      "   ----------------------------------- ---- 243.8/276.6 MB 8.4 MB/s eta 0:00:04\n",
      "   ----------------------------------- ---- 244.5/276.6 MB 8.4 MB/s eta 0:00:04\n",
      "   ----------------------------------- ---- 244.9/276.6 MB 8.4 MB/s eta 0:00:04\n",
      "   ----------------------------------- ---- 245.4/276.6 MB 8.4 MB/s eta 0:00:04\n",
      "   ----------------------------------- ---- 246.0/276.6 MB 9.6 MB/s eta 0:00:04\n",
      "   ----------------------------------- ---- 246.5/276.6 MB 9.4 MB/s eta 0:00:04\n",
      "   ----------------------------------- ---- 246.8/276.6 MB 9.0 MB/s eta 0:00:04\n",
      "   ----------------------------------- ---- 247.3/276.6 MB 8.7 MB/s eta 0:00:04\n",
      "   ----------------------------------- ---- 247.7/276.6 MB 8.5 MB/s eta 0:00:04\n",
      "   ----------------------------------- ---- 248.1/276.6 MB 8.4 MB/s eta 0:00:04\n",
      "   ----------------------------------- ---- 248.7/276.6 MB 8.4 MB/s eta 0:00:04\n",
      "   ------------------------------------ --- 249.0/276.6 MB 8.4 MB/s eta 0:00:04\n",
      "   ------------------------------------ --- 249.5/276.6 MB 8.5 MB/s eta 0:00:04\n",
      "   ------------------------------------ --- 249.9/276.6 MB 8.5 MB/s eta 0:00:04\n",
      "   ------------------------------------ --- 250.2/276.6 MB 8.6 MB/s eta 0:00:04\n",
      "   ------------------------------------ --- 250.9/276.6 MB 8.5 MB/s eta 0:00:04\n",
      "   ------------------------------------ --- 251.5/276.6 MB 8.7 MB/s eta 0:00:03\n",
      "   ------------------------------------ --- 251.9/276.6 MB 8.8 MB/s eta 0:00:03\n",
      "   ------------------------------------ --- 252.4/276.6 MB 9.0 MB/s eta 0:00:03\n",
      "   ------------------------------------ --- 252.7/276.6 MB 9.0 MB/s eta 0:00:03\n",
      "   ------------------------------------ --- 253.2/276.6 MB 8.8 MB/s eta 0:00:03\n",
      "   ------------------------------------ --- 253.8/276.6 MB 8.8 MB/s eta 0:00:03\n",
      "   ------------------------------------ --- 254.4/276.6 MB 9.2 MB/s eta 0:00:03\n",
      "   ------------------------------------ --- 254.7/276.6 MB 8.8 MB/s eta 0:00:03\n",
      "   ------------------------------------ --- 255.0/276.6 MB 8.8 MB/s eta 0:00:03\n",
      "   ------------------------------------ --- 255.6/276.6 MB 9.0 MB/s eta 0:00:03\n",
      "   ------------------------------------- -- 255.9/276.6 MB 9.0 MB/s eta 0:00:03\n",
      "   ------------------------------------- -- 255.9/276.6 MB 9.0 MB/s eta 0:00:03\n",
      "   ------------------------------------- -- 256.0/276.6 MB 8.3 MB/s eta 0:00:03\n",
      "   ------------------------------------- -- 257.4/276.6 MB 8.8 MB/s eta 0:00:03\n",
      "   ------------------------------------- -- 257.9/276.6 MB 8.8 MB/s eta 0:00:03\n",
      "   ------------------------------------- -- 258.3/276.6 MB 9.1 MB/s eta 0:00:03\n",
      "   ------------------------------------- -- 258.8/276.6 MB 9.0 MB/s eta 0:00:02\n",
      "   ------------------------------------- -- 259.2/276.6 MB 9.0 MB/s eta 0:00:02\n",
      "   ------------------------------------- -- 259.7/276.6 MB 9.0 MB/s eta 0:00:02\n",
      "   ------------------------------------- -- 260.1/276.6 MB 9.0 MB/s eta 0:00:02\n",
      "   ------------------------------------- -- 260.5/276.6 MB 9.2 MB/s eta 0:00:02\n",
      "   ------------------------------------- -- 261.0/276.6 MB 9.0 MB/s eta 0:00:02\n",
      "   ------------------------------------- -- 261.6/276.6 MB 9.1 MB/s eta 0:00:02\n",
      "   ------------------------------------- -- 262.2/276.6 MB 9.2 MB/s eta 0:00:02\n",
      "   ------------------------------------- -- 262.6/276.6 MB 9.0 MB/s eta 0:00:02\n",
      "   -------------------------------------- - 263.1/276.6 MB 9.2 MB/s eta 0:00:02\n",
      "   -------------------------------------- - 263.8/276.6 MB 9.1 MB/s eta 0:00:02\n",
      "   -------------------------------------- - 264.3/276.6 MB 9.2 MB/s eta 0:00:02\n",
      "   -------------------------------------- - 264.7/276.6 MB 9.2 MB/s eta 0:00:02\n",
      "   -------------------------------------- - 265.3/276.6 MB 9.5 MB/s eta 0:00:02\n",
      "   -------------------------------------- - 265.7/276.6 MB 9.5 MB/s eta 0:00:02\n",
      "   -------------------------------------- - 266.1/276.6 MB 9.4 MB/s eta 0:00:02\n",
      "   ------------------------------------- - 266.4/276.6 MB 10.2 MB/s eta 0:00:01\n",
      "   -------------------------------------- - 267.1/276.6 MB 9.6 MB/s eta 0:00:01\n",
      "   -------------------------------------- - 267.7/276.6 MB 9.2 MB/s eta 0:00:01\n",
      "   -------------------------------------- - 268.1/276.6 MB 9.2 MB/s eta 0:00:01\n",
      "   -------------------------------------- - 268.4/276.6 MB 9.1 MB/s eta 0:00:01\n",
      "   -------------------------------------- - 269.0/276.6 MB 9.2 MB/s eta 0:00:01\n",
      "   -------------------------------------- - 269.5/276.6 MB 9.2 MB/s eta 0:00:01\n",
      "   ---------------------------------------  270.1/276.6 MB 9.4 MB/s eta 0:00:01\n",
      "   ---------------------------------------  270.6/276.6 MB 9.4 MB/s eta 0:00:01\n",
      "   ---------------------------------------  271.0/276.6 MB 9.2 MB/s eta 0:00:01\n",
      "   ---------------------------------------  271.6/276.6 MB 9.2 MB/s eta 0:00:01\n",
      "   ---------------------------------------  272.2/276.6 MB 9.2 MB/s eta 0:00:01\n",
      "   ---------------------------------------  272.6/276.6 MB 9.2 MB/s eta 0:00:01\n",
      "   ---------------------------------------  273.2/276.6 MB 9.4 MB/s eta 0:00:01\n",
      "   ---------------------------------------  273.6/276.6 MB 9.4 MB/s eta 0:00:01\n",
      "   ---------------------------------------  274.1/276.6 MB 9.4 MB/s eta 0:00:01\n",
      "   ---------------------------------------  274.8/276.6 MB 9.2 MB/s eta 0:00:01\n",
      "   ---------------------------------------  275.2/276.6 MB 9.5 MB/s eta 0:00:01\n",
      "   ---------------------------------------  275.5/276.6 MB 9.2 MB/s eta 0:00:01\n",
      "   ---------------------------------------  275.9/276.6 MB 9.0 MB/s eta 0:00:01\n",
      "   ---------------------------------------  276.2/276.6 MB 9.0 MB/s eta 0:00:01\n",
      "   ---------------------------------------  276.6/276.6 MB 8.8 MB/s eta 0:00:01\n",
      "   ---------------------------------------  276.6/276.6 MB 9.0 MB/s eta 0:00:01\n",
      "   ---------------------------------------  276.6/276.6 MB 9.0 MB/s eta 0:00:01\n",
      "   ---------------------------------------  276.6/276.6 MB 9.0 MB/s eta 0:00:01\n",
      "   ---------------------------------------  276.6/276.6 MB 9.0 MB/s eta 0:00:01\n",
      "   ---------------------------------------  276.6/276.6 MB 9.0 MB/s eta 0:00:01\n",
      "   ---------------------------------------  276.6/276.6 MB 9.0 MB/s eta 0:00:01\n",
      "   ---------------------------------------  276.6/276.6 MB 9.0 MB/s eta 0:00:01\n",
      "   ---------------------------------------  276.6/276.6 MB 9.0 MB/s eta 0:00:01\n",
      "   ---------------------------------------  276.6/276.6 MB 9.0 MB/s eta 0:00:01\n",
      "   ---------------------------------------  276.6/276.6 MB 9.0 MB/s eta 0:00:01\n",
      "   ---------------------------------------  276.6/276.6 MB 9.0 MB/s eta 0:00:01\n",
      "   ---------------------------------------  276.6/276.6 MB 9.0 MB/s eta 0:00:01\n",
      "   ---------------------------------------  276.6/276.6 MB 9.0 MB/s eta 0:00:01\n",
      "   ---------------------------------------  276.6/276.6 MB 9.0 MB/s eta 0:00:01\n",
      "   ---------------------------------------  276.6/276.6 MB 9.0 MB/s eta 0:00:01\n",
      "   ---------------------------------------  276.6/276.6 MB 9.0 MB/s eta 0:00:01\n",
      "   ---------------------------------------  276.6/276.6 MB 9.0 MB/s eta 0:00:01\n",
      "   ---------------------------------------  276.6/276.6 MB 9.0 MB/s eta 0:00:01\n",
      "   ---------------------------------------  276.6/276.6 MB 9.0 MB/s eta 0:00:01\n",
      "   ---------------------------------------  276.6/276.6 MB 9.0 MB/s eta 0:00:01\n",
      "   ---------------------------------------  276.6/276.6 MB 9.0 MB/s eta 0:00:01\n",
      "   ---------------------------------------  276.6/276.6 MB 9.0 MB/s eta 0:00:01\n",
      "   ---------------------------------------  276.6/276.6 MB 9.0 MB/s eta 0:00:01\n",
      "   ---------------------------------------  276.6/276.6 MB 9.0 MB/s eta 0:00:01\n",
      "   ---------------------------------------  276.6/276.6 MB 9.0 MB/s eta 0:00:01\n",
      "   ---------------------------------------  276.6/276.6 MB 9.0 MB/s eta 0:00:01\n",
      "   ---------------------------------------  276.6/276.6 MB 9.0 MB/s eta 0:00:01\n",
      "   ---------------------------------------  276.6/276.6 MB 9.0 MB/s eta 0:00:01\n",
      "   ---------------------------------------  276.6/276.6 MB 9.0 MB/s eta 0:00:01\n",
      "   ---------------------------------------  276.6/276.6 MB 9.0 MB/s eta 0:00:01\n",
      "   ---------------------------------------  276.6/276.6 MB 9.0 MB/s eta 0:00:01\n",
      "   ---------------------------------------  276.6/276.6 MB 9.0 MB/s eta 0:00:01\n",
      "   ---------------------------------------  276.6/276.6 MB 9.0 MB/s eta 0:00:01\n",
      "   ---------------------------------------  276.6/276.6 MB 9.0 MB/s eta 0:00:01\n",
      "   ---------------------------------------  276.6/276.6 MB 9.0 MB/s eta 0:00:01\n",
      "   ---------------------------------------  276.6/276.6 MB 9.0 MB/s eta 0:00:01\n",
      "   ---------------------------------------  276.6/276.6 MB 9.0 MB/s eta 0:00:01\n",
      "   ---------------------------------------  276.6/276.6 MB 9.0 MB/s eta 0:00:01\n",
      "   ---------------------------------------  276.6/276.6 MB 9.0 MB/s eta 0:00:01\n",
      "   ---------------------------------------  276.6/276.6 MB 9.0 MB/s eta 0:00:01\n",
      "   ---------------------------------------  276.6/276.6 MB 9.0 MB/s eta 0:00:01\n",
      "   ---------------------------------------  276.6/276.6 MB 9.0 MB/s eta 0:00:01\n",
      "   ---------------------------------------  276.6/276.6 MB 9.0 MB/s eta 0:00:01\n",
      "   ---------------------------------------  276.6/276.6 MB 9.0 MB/s eta 0:00:01\n",
      "   ---------------------------------------  276.6/276.6 MB 9.0 MB/s eta 0:00:01\n",
      "   ---------------------------------------  276.6/276.6 MB 9.0 MB/s eta 0:00:01\n",
      "   ---------------------------------------  276.6/276.6 MB 9.0 MB/s eta 0:00:01\n",
      "   ---------------------------------------  276.6/276.6 MB 9.0 MB/s eta 0:00:01\n",
      "   ---------------------------------------  276.6/276.6 MB 9.0 MB/s eta 0:00:01\n",
      "   ---------------------------------------  276.6/276.6 MB 9.0 MB/s eta 0:00:01\n",
      "   ---------------------------------------  276.6/276.6 MB 9.0 MB/s eta 0:00:01\n",
      "   ---------------------------------------  276.6/276.6 MB 9.0 MB/s eta 0:00:01\n",
      "   ---------------------------------------  276.6/276.6 MB 9.0 MB/s eta 0:00:01\n",
      "   ---------------------------------------  276.6/276.6 MB 9.0 MB/s eta 0:00:01\n",
      "   ---------------------------------------  276.6/276.6 MB 9.0 MB/s eta 0:00:01\n",
      "   ---------------------------------------  276.6/276.6 MB 9.0 MB/s eta 0:00:01\n",
      "   ---------------------------------------  276.6/276.6 MB 9.0 MB/s eta 0:00:01\n",
      "   ---------------------------------------  276.6/276.6 MB 9.0 MB/s eta 0:00:01\n",
      "   ---------------------------------------  276.6/276.6 MB 9.0 MB/s eta 0:00:01\n",
      "   ---------------------------------------  276.6/276.6 MB 9.0 MB/s eta 0:00:01\n",
      "   ---------------------------------------  276.6/276.6 MB 9.0 MB/s eta 0:00:01\n",
      "   ---------------------------------------  276.6/276.6 MB 9.0 MB/s eta 0:00:01\n",
      "   ---------------------------------------  276.6/276.6 MB 9.0 MB/s eta 0:00:01\n",
      "   ---------------------------------------  276.6/276.6 MB 9.0 MB/s eta 0:00:01\n",
      "   ---------------------------------------  276.6/276.6 MB 9.0 MB/s eta 0:00:01\n",
      "   ---------------------------------------  276.6/276.6 MB 9.0 MB/s eta 0:00:01\n",
      "   ---------------------------------------  276.6/276.6 MB 9.0 MB/s eta 0:00:01\n",
      "   ---------------------------------------  276.6/276.6 MB 9.0 MB/s eta 0:00:01\n",
      "   ---------------------------------------  276.6/276.6 MB 9.0 MB/s eta 0:00:01\n",
      "   ---------------------------------------  276.6/276.6 MB 9.0 MB/s eta 0:00:01\n",
      "   ---------------------------------------  276.6/276.6 MB 9.0 MB/s eta 0:00:01\n",
      "   ---------------------------------------  276.6/276.6 MB 9.0 MB/s eta 0:00:01\n",
      "   ---------------------------------------  276.6/276.6 MB 9.0 MB/s eta 0:00:01\n",
      "   ---------------------------------------  276.6/276.6 MB 9.0 MB/s eta 0:00:01\n",
      "   ---------------------------------------  276.6/276.6 MB 9.0 MB/s eta 0:00:01\n",
      "   ---------------------------------------  276.6/276.6 MB 9.0 MB/s eta 0:00:01\n",
      "   ---------------------------------------  276.6/276.6 MB 9.0 MB/s eta 0:00:01\n",
      "   ---------------------------------------  276.6/276.6 MB 9.0 MB/s eta 0:00:01\n",
      "   ---------------------------------------  276.6/276.6 MB 9.0 MB/s eta 0:00:01\n",
      "   ---------------------------------------  276.6/276.6 MB 9.0 MB/s eta 0:00:01\n",
      "   ---------------------------------------  276.6/276.6 MB 9.0 MB/s eta 0:00:01\n",
      "   ---------------------------------------  276.6/276.6 MB 9.0 MB/s eta 0:00:01\n",
      "   ---------------------------------------  276.6/276.6 MB 9.0 MB/s eta 0:00:01\n",
      "   ---------------------------------------  276.6/276.6 MB 9.0 MB/s eta 0:00:01\n",
      "   ---------------------------------------  276.6/276.6 MB 9.0 MB/s eta 0:00:01\n",
      "   ---------------------------------------  276.6/276.6 MB 9.0 MB/s eta 0:00:01\n",
      "   ---------------------------------------  276.6/276.6 MB 9.0 MB/s eta 0:00:01\n",
      "   ---------------------------------------  276.6/276.6 MB 9.0 MB/s eta 0:00:01\n",
      "   ---------------------------------------  276.6/276.6 MB 9.0 MB/s eta 0:00:01\n",
      "   ---------------------------------------  276.6/276.6 MB 9.0 MB/s eta 0:00:01\n",
      "   ---------------------------------------  276.6/276.6 MB 9.0 MB/s eta 0:00:01\n",
      "   ---------------------------------------  276.6/276.6 MB 9.0 MB/s eta 0:00:01\n",
      "   ---------------------------------------  276.6/276.6 MB 9.0 MB/s eta 0:00:01\n",
      "   ---------------------------------------  276.6/276.6 MB 9.0 MB/s eta 0:00:01\n",
      "   ---------------------------------------  276.6/276.6 MB 9.0 MB/s eta 0:00:01\n",
      "   ---------------------------------------  276.6/276.6 MB 9.0 MB/s eta 0:00:01\n",
      "   ---------------------------------------  276.6/276.6 MB 9.0 MB/s eta 0:00:01\n",
      "   ---------------------------------------  276.6/276.6 MB 9.0 MB/s eta 0:00:01\n",
      "   ---------------------------------------  276.6/276.6 MB 9.0 MB/s eta 0:00:01\n",
      "   ---------------------------------------  276.6/276.6 MB 9.0 MB/s eta 0:00:01\n",
      "   ---------------------------------------  276.6/276.6 MB 9.0 MB/s eta 0:00:01\n",
      "   ---------------------------------------  276.6/276.6 MB 9.0 MB/s eta 0:00:01\n",
      "   ---------------------------------------  276.6/276.6 MB 9.0 MB/s eta 0:00:01\n",
      "   ---------------------------------------  276.6/276.6 MB 9.0 MB/s eta 0:00:01\n",
      "   ---------------------------------------  276.6/276.6 MB 9.0 MB/s eta 0:00:01\n",
      "   ---------------------------------------  276.6/276.6 MB 9.0 MB/s eta 0:00:01\n",
      "   ---------------------------------------  276.6/276.6 MB 9.0 MB/s eta 0:00:01\n",
      "   ---------------------------------------  276.6/276.6 MB 9.0 MB/s eta 0:00:01\n",
      "   ---------------------------------------  276.6/276.6 MB 9.0 MB/s eta 0:00:01\n",
      "   ---------------------------------------  276.6/276.6 MB 9.0 MB/s eta 0:00:01\n",
      "   ---------------------------------------  276.6/276.6 MB 9.0 MB/s eta 0:00:01\n",
      "   ---------------------------------------  276.6/276.6 MB 9.0 MB/s eta 0:00:01\n",
      "   ---------------------------------------  276.6/276.6 MB 9.0 MB/s eta 0:00:01\n",
      "   ---------------------------------------  276.6/276.6 MB 9.0 MB/s eta 0:00:01\n",
      "   ---------------------------------------  276.6/276.6 MB 9.0 MB/s eta 0:00:01\n",
      "   ---------------------------------------  276.6/276.6 MB 9.0 MB/s eta 0:00:01\n",
      "   ---------------------------------------  276.6/276.6 MB 9.0 MB/s eta 0:00:01\n",
      "   ---------------------------------------  276.6/276.6 MB 9.0 MB/s eta 0:00:01\n",
      "   ---------------------------------------  276.6/276.6 MB 9.0 MB/s eta 0:00:01\n",
      "   ---------------------------------------  276.6/276.6 MB 9.0 MB/s eta 0:00:01\n",
      "   ---------------------------------------  276.6/276.6 MB 9.0 MB/s eta 0:00:01\n",
      "   ---------------------------------------  276.6/276.6 MB 9.0 MB/s eta 0:00:01\n",
      "   ---------------------------------------  276.6/276.6 MB 9.0 MB/s eta 0:00:01\n",
      "   ---------------------------------------  276.6/276.6 MB 9.0 MB/s eta 0:00:01\n",
      "   ---------------------------------------  276.6/276.6 MB 9.0 MB/s eta 0:00:01\n",
      "   ---------------------------------------  276.6/276.6 MB 9.0 MB/s eta 0:00:01\n",
      "   ---------------------------------------  276.6/276.6 MB 9.0 MB/s eta 0:00:01\n",
      "   ---------------------------------------  276.6/276.6 MB 9.0 MB/s eta 0:00:01\n",
      "   ---------------------------------------  276.6/276.6 MB 9.0 MB/s eta 0:00:01\n",
      "   ---------------------------------------  276.6/276.6 MB 9.0 MB/s eta 0:00:01\n",
      "   ---------------------------------------  276.6/276.6 MB 9.0 MB/s eta 0:00:01\n",
      "   ---------------------------------------  276.6/276.6 MB 9.0 MB/s eta 0:00:01\n",
      "   ---------------------------------------  276.6/276.6 MB 9.0 MB/s eta 0:00:01\n",
      "   ---------------------------------------  276.6/276.6 MB 9.0 MB/s eta 0:00:01\n",
      "   ---------------------------------------  276.6/276.6 MB 9.0 MB/s eta 0:00:01\n",
      "   ---------------------------------------  276.6/276.6 MB 9.0 MB/s eta 0:00:01\n",
      "   ---------------------------------------  276.6/276.6 MB 9.0 MB/s eta 0:00:01\n",
      "   ---------------------------------------  276.6/276.6 MB 9.0 MB/s eta 0:00:01\n",
      "   ---------------------------------------  276.6/276.6 MB 9.0 MB/s eta 0:00:01\n",
      "   ---------------------------------------- 276.6/276.6 MB 1.2 MB/s eta 0:00:00\n",
      "Using cached absl_py-2.0.0-py3-none-any.whl (130 kB)\n",
      "Using cached flatbuffers-23.5.26-py2.py3-none-any.whl (26 kB)\n",
      "Downloading grpcio-1.58.0-cp311-cp311-win_amd64.whl (4.3 MB)\n",
      "   ---------------------------------------- 0.0/4.3 MB ? eta -:--:--\n",
      "   - -------------------------------------- 0.2/4.3 MB 10.9 MB/s eta 0:00:01\n",
      "   - -------------------------------------- 0.2/4.3 MB 10.9 MB/s eta 0:00:01\n",
      "   - -------------------------------------- 0.2/4.3 MB 10.9 MB/s eta 0:00:01\n",
      "   - -------------------------------------- 0.2/4.3 MB 10.9 MB/s eta 0:00:01\n",
      "   - -------------------------------------- 0.2/4.3 MB 10.9 MB/s eta 0:00:01\n",
      "   - -------------------------------------- 0.2/4.3 MB 737.3 kB/s eta 0:00:06\n",
      "   -- ------------------------------------- 0.3/4.3 MB 853.3 kB/s eta 0:00:05\n",
      "   -- ------------------------------------- 0.3/4.3 MB 853.3 kB/s eta 0:00:05\n",
      "   -- ------------------------------------- 0.3/4.3 MB 853.3 kB/s eta 0:00:05\n",
      "   -- ------------------------------------- 0.3/4.3 MB 853.3 kB/s eta 0:00:05\n",
      "   -- ------------------------------------- 0.3/4.3 MB 853.3 kB/s eta 0:00:05\n",
      "   -- ------------------------------------- 0.3/4.3 MB 853.3 kB/s eta 0:00:05\n",
      "   ------ --------------------------------- 0.7/4.3 MB 1.1 MB/s eta 0:00:04\n",
      "   ------ --------------------------------- 0.7/4.3 MB 1.1 MB/s eta 0:00:04\n",
      "   ------ --------------------------------- 0.7/4.3 MB 1.1 MB/s eta 0:00:04\n",
      "   ------ --------------------------------- 0.7/4.3 MB 1.1 MB/s eta 0:00:04\n",
      "   -------- ------------------------------- 0.9/4.3 MB 1.2 MB/s eta 0:00:03\n",
      "   -------- ------------------------------- 0.9/4.3 MB 1.2 MB/s eta 0:00:03\n",
      "   -------- ------------------------------- 0.9/4.3 MB 1.2 MB/s eta 0:00:03\n",
      "   -------- ------------------------------- 0.9/4.3 MB 988.5 kB/s eta 0:00:04\n",
      "   -------- ------------------------------- 0.9/4.3 MB 988.5 kB/s eta 0:00:04\n",
      "   -------- ------------------------------- 0.9/4.3 MB 988.5 kB/s eta 0:00:04\n",
      "   ------------ --------------------------- 1.3/4.3 MB 1.2 MB/s eta 0:00:03\n",
      "   ------------ --------------------------- 1.4/4.3 MB 1.2 MB/s eta 0:00:03\n",
      "   -------------- ------------------------- 1.6/4.3 MB 1.3 MB/s eta 0:00:03\n",
      "   ---------------- ----------------------- 1.7/4.3 MB 1.4 MB/s eta 0:00:02\n",
      "   ----------------- ---------------------- 1.9/4.3 MB 1.5 MB/s eta 0:00:02\n",
      "   ------------------- -------------------- 2.1/4.3 MB 1.6 MB/s eta 0:00:02\n",
      "   --------------------- ------------------ 2.3/4.3 MB 1.7 MB/s eta 0:00:02\n",
      "   ---------------------- ----------------- 2.5/4.3 MB 1.7 MB/s eta 0:00:02\n",
      "   ------------------------ --------------- 2.7/4.3 MB 1.8 MB/s eta 0:00:01\n",
      "   -------------------------- ------------- 2.9/4.3 MB 1.9 MB/s eta 0:00:01\n",
      "   ---------------------------- ----------- 3.1/4.3 MB 2.0 MB/s eta 0:00:01\n",
      "   ------------------------------ --------- 3.3/4.3 MB 2.0 MB/s eta 0:00:01\n",
      "   -------------------------------- ------- 3.5/4.3 MB 2.1 MB/s eta 0:00:01\n",
      "   ---------------------------------- ----- 3.7/4.3 MB 2.2 MB/s eta 0:00:01\n",
      "   ----------------------------------- ---- 3.9/4.3 MB 2.2 MB/s eta 0:00:01\n",
      "   ------------------------------------- -- 4.1/4.3 MB 2.3 MB/s eta 0:00:01\n",
      "   ---------------------------------------  4.3/4.3 MB 2.3 MB/s eta 0:00:01\n",
      "   ---------------------------------------  4.3/4.3 MB 2.3 MB/s eta 0:00:01\n",
      "   ---------------------------------------- 4.3/4.3 MB 2.3 MB/s eta 0:00:00\n",
      "Using cached keras-2.13.1-py3-none-any.whl (1.7 MB)\n",
      "Using cached libclang-16.0.6-py2.py3-none-win_amd64.whl (24.4 MB)\n",
      "Downloading protobuf-4.24.3-cp310-abi3-win_amd64.whl (430 kB)\n",
      "   ---------------------------------------- 0.0/430.5 kB ? eta -:--:--\n",
      "   ---------------------- ----------------- 245.8/430.5 kB 7.6 MB/s eta 0:00:01\n",
      "   ---------------------------------------  430.1/430.5 kB 5.4 MB/s eta 0:00:01\n",
      "   ---------------------------------------- 430.5/430.5 kB 4.5 MB/s eta 0:00:00\n",
      "Using cached tensorflow_estimator-2.13.0-py2.py3-none-any.whl (440 kB)\n",
      "Using cached google_auth-2.23.0-py2.py3-none-any.whl (181 kB)\n",
      "Using cached tensorboard_data_server-0.7.1-py3-none-any.whl (2.4 kB)\n",
      "Using cached cachetools-5.3.1-py3-none-any.whl (9.3 kB)\n",
      "Installing collected packages: libclang, flatbuffers, typing-extensions, termcolor, tensorflow-io-gcs-filesystem, tensorflow-estimator, tensorboard-data-server, rsa, protobuf, opt-einsum, oauthlib, keras, grpcio, google-pasta, gast, cachetools, astunparse, absl-py, requests-oauthlib, google-auth, google-auth-oauthlib, tensorboard, tensorflow-intel, tensorflow\n",
      "  Attempting uninstall: typing-extensions\n",
      "    Found existing installation: typing_extensions 4.7.1\n",
      "    Uninstalling typing_extensions-4.7.1:\n",
      "      Successfully uninstalled typing_extensions-4.7.1\n",
      "Successfully installed absl-py-2.0.0 astunparse-1.6.3 cachetools-5.3.1 flatbuffers-23.5.26 gast-0.4.0 google-auth-2.23.0 google-auth-oauthlib-1.0.0 google-pasta-0.2.0 grpcio-1.58.0 keras-2.13.1 libclang-16.0.6 oauthlib-3.2.2 opt-einsum-3.3.0 protobuf-4.24.3 requests-oauthlib-1.3.1 rsa-4.9 tensorboard-2.13.0 tensorboard-data-server-0.7.1 tensorflow-2.13.0 tensorflow-estimator-2.13.0 tensorflow-intel-2.13.0 tensorflow-io-gcs-filesystem-0.31.0 termcolor-2.3.0 typing-extensions-4.5.0\n"
     ]
    }
   ],
   "source": [
    "!pip install tensorflow"
   ]
  },
  {
   "cell_type": "code",
   "execution_count": 4,
   "metadata": {},
   "outputs": [],
   "source": [
    "import tensorflow as tf"
   ]
  },
  {
   "cell_type": "code",
   "execution_count": 5,
   "metadata": {},
   "outputs": [
    {
     "name": "stdout",
     "output_type": "stream",
     "text": [
      "Collecting mitdeeplearning\n",
      "  Using cached mitdeeplearning-0.3.0.tar.gz (2.1 MB)\n",
      "  Preparing metadata (setup.py): started\n",
      "  Preparing metadata (setup.py): finished with status 'done'\n",
      "Requirement already satisfied: numpy in c:\\users\\iveel\\anaconda3\\lib\\site-packages (from mitdeeplearning) (1.24.3)\n",
      "Requirement already satisfied: regex in c:\\users\\iveel\\anaconda3\\lib\\site-packages (from mitdeeplearning) (2022.7.9)\n",
      "Requirement already satisfied: tqdm in c:\\users\\iveel\\anaconda3\\lib\\site-packages (from mitdeeplearning) (4.65.0)\n",
      "Collecting gym (from mitdeeplearning)\n",
      "  Using cached gym-0.26.2.tar.gz (721 kB)\n",
      "  Installing build dependencies: started\n",
      "  Installing build dependencies: finished with status 'done'\n",
      "  Getting requirements to build wheel: started\n",
      "  Getting requirements to build wheel: finished with status 'done'\n",
      "  Preparing metadata (pyproject.toml): started\n",
      "  Preparing metadata (pyproject.toml): finished with status 'done'\n",
      "Requirement already satisfied: cloudpickle>=1.2.0 in c:\\users\\iveel\\anaconda3\\lib\\site-packages (from gym->mitdeeplearning) (2.2.1)\n",
      "Collecting gym-notices>=0.0.4 (from gym->mitdeeplearning)\n",
      "  Using cached gym_notices-0.0.8-py3-none-any.whl (3.0 kB)\n",
      "Requirement already satisfied: colorama in c:\\users\\iveel\\anaconda3\\lib\\site-packages (from tqdm->mitdeeplearning) (0.4.6)\n",
      "Building wheels for collected packages: mitdeeplearning, gym\n",
      "  Building wheel for mitdeeplearning (setup.py): started\n",
      "  Building wheel for mitdeeplearning (setup.py): finished with status 'done'\n",
      "  Created wheel for mitdeeplearning: filename=mitdeeplearning-0.3.0-py3-none-any.whl size=2117313 sha256=a9d9b696984e5bcdbb8534d9a6782e0836617e23c4497fc48f2375da2ce9625e\n",
      "  Stored in directory: c:\\users\\iveel\\appdata\\local\\pip\\cache\\wheels\\cf\\2a\\97\\a97ba340ebb1875e82ee9f3da3090d91320ff0837673df83c6\n",
      "  Building wheel for gym (pyproject.toml): started\n",
      "  Building wheel for gym (pyproject.toml): finished with status 'done'\n",
      "  Created wheel for gym: filename=gym-0.26.2-py3-none-any.whl size=827633 sha256=1474a51cb55340bbb14d9952d9f66ead81f763efe08578900fae1aa15a6a82ba\n",
      "  Stored in directory: c:\\users\\iveel\\appdata\\local\\pip\\cache\\wheels\\1c\\77\\9e\\9af5470201a0b0543937933ee99ba884cd237d2faefe8f4d37\n",
      "Successfully built mitdeeplearning gym\n",
      "Installing collected packages: gym-notices, gym, mitdeeplearning\n",
      "Successfully installed gym-0.26.2 gym-notices-0.0.8 mitdeeplearning-0.3.0\n"
     ]
    }
   ],
   "source": [
    "# Download the MIT 6.S191 package\n",
    "!pip install mitdeeplearning"
   ]
  },
  {
   "cell_type": "code",
   "execution_count": 9,
   "metadata": {},
   "outputs": [
    {
     "name": "stdout",
     "output_type": "stream",
     "text": [
      "Collecting opencv-python\n",
      "  Obtaining dependency information for opencv-python from https://files.pythonhosted.org/packages/fb/c4/f574ba6f04e6d7bf8c38d23e7a52389566dd7631fee0bcdd79ea07ef2dbf/opencv_python-4.8.0.76-cp37-abi3-win_amd64.whl.metadata\n",
      "  Downloading opencv_python-4.8.0.76-cp37-abi3-win_amd64.whl.metadata (20 kB)\n",
      "Requirement already satisfied: numpy>=1.21.2 in c:\\users\\iveel\\anaconda3\\lib\\site-packages (from opencv-python) (1.24.3)\n",
      "Using cached opencv_python-4.8.0.76-cp37-abi3-win_amd64.whl (38.1 MB)\n",
      "Installing collected packages: opencv-python\n",
      "Successfully installed opencv-python-4.8.0.76\n"
     ]
    }
   ],
   "source": [
    "!pip install opencv-python"
   ]
  },
  {
   "cell_type": "code",
   "execution_count": 10,
   "metadata": {},
   "outputs": [],
   "source": [
    "# Import the MIT 6.S191 package\n",
    "import mitdeeplearning as mdl"
   ]
  },
  {
   "cell_type": "markdown",
   "metadata": {
    "id": "2QNMcdP4m3Vs"
   },
   "source": [
    "## 1.1 Why is TensorFlow called TensorFlow?\n",
    "\n",
    "TensorFlow is called 'TensorFlow' because it handles the flow (node/mathematical operation) of Tensors, which are data structures that you can think of as multi-dimensional arrays. Tensors are represented as n-dimensional arrays of base dataypes such as a string or integer -- they provide a way to generalize vectors and matrices to higher dimensions.\n",
    "\n",
    "The ```shape``` of a Tensor defines its number of dimensions and the size of each dimension. The ```rank``` of a Tensor provides the number of dimensions (n-dimensions) -- you can also think of this as the Tensor's order or degree.\n",
    "\n",
    "Let's first look at 0-d Tensors, of which a scalar is an example:"
   ]
  },
  {
   "cell_type": "code",
   "execution_count": 11,
   "metadata": {
    "colab": {
     "base_uri": "https://localhost:8080/"
    },
    "id": "tFxztZQInlAB",
    "outputId": "fa23fe5c-3985-485e-a04b-56114f870240"
   },
   "outputs": [
    {
     "name": "stdout",
     "output_type": "stream",
     "text": [
      "`sport` is a 0-d Tensor\n",
      "`number` is a 0-d Tensor\n"
     ]
    }
   ],
   "source": [
    "sport = tf.constant(\"Tennis\", tf.string)\n",
    "number = tf.constant(1.41421356237, tf.float64)\n",
    "\n",
    "print(\"`sport` is a {}-d Tensor\".format(tf.rank(sport).numpy()))\n",
    "print(\"`number` is a {}-d Tensor\".format(tf.rank(number).numpy()))"
   ]
  },
  {
   "cell_type": "markdown",
   "metadata": {
    "id": "-dljcPUcoJZ6"
   },
   "source": [
    "Vectors and lists can be used to create 1-d Tensors:"
   ]
  },
  {
   "cell_type": "code",
   "execution_count": 12,
   "metadata": {
    "colab": {
     "base_uri": "https://localhost:8080/"
    },
    "id": "oaHXABe8oPcO",
    "outputId": "b2e5c736-9e68-4491-86d2-a1b79ce21ddc"
   },
   "outputs": [
    {
     "name": "stdout",
     "output_type": "stream",
     "text": [
      "`sports` is a 1-d Tensor with shape: [2]\n",
      "`numbers` is a 1-d Tensor with shape: [3]\n"
     ]
    }
   ],
   "source": [
    "sports = tf.constant([\"Tennis\", \"Basketball\"], tf.string)\n",
    "numbers = tf.constant([3.141592, 1.414213, 2.71821], tf.float64)\n",
    "\n",
    "print(\"`sports` is a {}-d Tensor with shape: {}\".format(tf.rank(sports).numpy(), tf.shape(sports)))\n",
    "print(\"`numbers` is a {}-d Tensor with shape: {}\".format(tf.rank(numbers).numpy(), tf.shape(numbers)))"
   ]
  },
  {
   "cell_type": "markdown",
   "metadata": {
    "id": "gvffwkvtodLP"
   },
   "source": [
    "Next we consider creating 2-d (i.e., matrices) and higher-rank Tensors. For examples, in future labs involving image processing and computer vision, we will use 4-d Tensors. Here the dimensions correspond to the number of example images in our batch, image height, image width, and the number of color channels."
   ]
  },
  {
   "cell_type": "code",
   "execution_count": 14,
   "metadata": {
    "id": "tFeBBe1IouS3"
   },
   "outputs": [],
   "source": [
    "### Defining higher-order Tensors ###\n",
    "\n",
    "'''TODO: Define a 2-d Tensor'''\n",
    "matrix = tf.constant([[1.0, 2.0, 3.0, 4.0],[1.0, 2.0, 3.0, 4.0],[1.0, 2.0, 3.0, 4.0]])\n",
    "\n",
    "assert isinstance(matrix, tf.Tensor), \"matrix must be a tf Tensor object\"\n",
    "assert tf.rank(matrix).numpy() == 2"
   ]
  },
  {
   "cell_type": "code",
   "execution_count": 15,
   "metadata": {
    "id": "Zv1fTn_Ya_cz"
   },
   "outputs": [],
   "source": [
    "'''TODO: Define a 4-d Tensor.'''\n",
    "# Use tf.zeros to initialize a 4-d Tensor of zeros with size 10 x 256 x 256 x 3.\n",
    "#   You can think of this as 10 images where each image is RGB 256 x 256.\n",
    "\n",
    "images = tf.zeros([10, 256, 256, 3])\n",
    "\n",
    "assert isinstance(images, tf.Tensor), \"matrix must be a tf Tensor object\"\n",
    "assert tf.rank(images).numpy() == 4, \"matrix must be of rank 4\"\n",
    "assert tf.shape(images).numpy().tolist() == [10, 256, 256, 3], \"matrix is incorrect shape\""
   ]
  },
  {
   "cell_type": "markdown",
   "metadata": {
    "id": "wkaCDOGapMyl"
   },
   "source": [
    "As you have seen, the ```shape``` of a Tensor provides the number of elements in each Tensor dimension. The ```shape``` is quite useful, and we'll use it often. You can also use slicing to access subtensors within a higher-rank Tensor:"
   ]
  },
  {
   "cell_type": "code",
   "execution_count": 16,
   "metadata": {
    "colab": {
     "base_uri": "https://localhost:8080/"
    },
    "id": "FhaufyObuLEG",
    "outputId": "6f789232-87ae-433d-ee0e-e0a100a6fc9d"
   },
   "outputs": [
    {
     "name": "stdout",
     "output_type": "stream",
     "text": [
      "`row_vector`: [1. 2. 3. 4.]\n",
      "`column_vector`: [3. 3. 3.]\n",
      "`scalar`: 3.0\n"
     ]
    }
   ],
   "source": [
    "row_vector = matrix[1]\n",
    "column_vector = matrix[:,2]\n",
    "scalar = matrix[1, 2]\n",
    "\n",
    "print(\"`row_vector`: {}\".format(row_vector.numpy()))\n",
    "print(\"`column_vector`: {}\".format(column_vector.numpy()))\n",
    "print(\"`scalar`: {}\".format(scalar.numpy()))"
   ]
  },
  {
   "cell_type": "markdown",
   "metadata": {
    "id": "iD3VO-LZYZ2z"
   },
   "source": [
    "## 1.2 Computations on Tensors\n",
    "\n",
    "A convenient way to think about and visualize computations in TensorFlow is in terms of graphs. We can define this graph in terms of Tensors, which hold data, and the mathematical operations that act on these Tensors in some order. Let's look at a simple example, and define this computation using TensorFlow:\n",
    "\n",
    "![alt text](https://raw.githubusercontent.com/aamini/introtodeeplearning/master/lab1/img/add-graph.png)"
   ]
  },
  {
   "cell_type": "code",
   "execution_count": 17,
   "metadata": {
    "colab": {
     "base_uri": "https://localhost:8080/"
    },
    "id": "X_YJrZsxYZ2z",
    "outputId": "b953a16f-0ad0-4b25-b095-8942f5b14d63"
   },
   "outputs": [
    {
     "name": "stdout",
     "output_type": "stream",
     "text": [
      "tf.Tensor(76, shape=(), dtype=int32)\n",
      "tf.Tensor(76, shape=(), dtype=int32)\n"
     ]
    }
   ],
   "source": [
    "# Create the nodes in the graph, and initialize values\n",
    "a = tf.constant(15)\n",
    "b = tf.constant(61)\n",
    "\n",
    "# Add them!\n",
    "c1 = tf.add(a,b)\n",
    "c2 = a + b # TensorFlow overrides the \"+\" operation so that it is able to act on Tensors\n",
    "print(c1)\n",
    "print(c2)"
   ]
  },
  {
   "cell_type": "markdown",
   "metadata": {
    "id": "Mbfv_QOiYZ23"
   },
   "source": [
    "Notice how we've created a computation graph consisting of TensorFlow operations, and how  the output is a Tensor with value 76 -- we've just created a computation graph consisting of operations, and it's executed them and given us back the result.\n",
    "\n",
    "Now let's consider a slightly more complicated example:\n",
    "\n",
    "![alt text](https://raw.githubusercontent.com/aamini/introtodeeplearning/master/lab1/img/computation-graph.png)\n",
    "\n",
    "Here, we take two inputs, `a, b`, and compute an output `e`. Each node in the graph represents an operation that takes some input, does some computation, and passes its output to another node.\n",
    "\n",
    "Let's define a simple function in TensorFlow to construct this computation function:"
   ]
  },
  {
   "cell_type": "code",
   "execution_count": 18,
   "metadata": {
    "id": "PJnfzpWyYZ23",
    "scrolled": true
   },
   "outputs": [],
   "source": [
    "### Defining Tensor computations ###\n",
    "\n",
    "# Construct a simple computation function\n",
    "def func(a,b):\n",
    "  '''TODO: Define the operation for c, d, e (use tf.add, tf.subtract, tf.multiply).'''\n",
    "  c = tf.add(a, b)\n",
    "  d = tf.subtract(b, 1)\n",
    "  e = tf.multiply(c, d)\n",
    "\n",
    "  return e"
   ]
  },
  {
   "cell_type": "markdown",
   "metadata": {
    "id": "AwrRfDMS2-oy"
   },
   "source": [
    "Now, we can call this function to execute the computation graph given some inputs `a,b`:"
   ]
  },
  {
   "cell_type": "code",
   "execution_count": 19,
   "metadata": {
    "colab": {
     "base_uri": "https://localhost:8080/"
    },
    "id": "pnwsf8w2uF7p",
    "outputId": "abd109f6-144f-460d-d965-6f346c7e31f1"
   },
   "outputs": [
    {
     "name": "stdout",
     "output_type": "stream",
     "text": [
      "tf.Tensor(6.0, shape=(), dtype=float32)\n"
     ]
    }
   ],
   "source": [
    "# Consider example values for a,b\n",
    "a, b = 1.5, 2.5\n",
    "# Execute the computation\n",
    "e_out = func(a,b)\n",
    "print(e_out)"
   ]
  },
  {
   "cell_type": "markdown",
   "metadata": {
    "id": "6HqgUIUhYZ29"
   },
   "source": [
    "Notice how our output is a Tensor with value defined by the output of the computation, and that the output has no shape as it is a single scalar value."
   ]
  },
  {
   "cell_type": "markdown",
   "metadata": {
    "id": "1h4o9Bb0YZ29"
   },
   "source": [
    "## 1.3 Neural networks in TensorFlow\n",
    "We can also define neural networks in TensorFlow. TensorFlow uses a high-level API called [Keras](https://www.tensorflow.org/guide/keras) that provides a powerful, intuitive framework for building and training deep learning models.\n",
    "\n",
    "Let's first consider the example of a simple perceptron defined by just one dense layer: $ y = \\sigma(Wx + b)$, where $W$ represents a matrix of weights, $b$ is a bias, $x$ is the input, $\\sigma$ is the sigmoid activation function, and $y$ is the output. We can also visualize this operation using a graph: \n",
    "\n",
    "![alt text](https://raw.githubusercontent.com/aamini/introtodeeplearning/master/lab1/img/computation-graph-2.png)\n",
    "\n",
    "Tensors can flow through abstract types called [```Layers```](https://www.tensorflow.org/api_docs/python/tf/keras/layers/Layer) -- the building blocks of neural networks. ```Layers``` implement common neural networks operations, and are used to update weights, compute losses, and define inter-layer connectivity. We will first define a ```Layer``` to implement the simple perceptron defined above."
   ]
  },
  {
   "cell_type": "code",
   "execution_count": 41,
   "metadata": {
    "colab": {
     "base_uri": "https://localhost:8080/"
    },
    "id": "HutbJk-1kHPh",
    "outputId": "c31a2322-f50a-4f1a-b95f-aeb8ed30fd53"
   },
   "outputs": [
    {
     "name": "stdout",
     "output_type": "stream",
     "text": [
      "[[0.2697859  0.45750412 0.66536945]]\n",
      "[PASS] test_custom_dense_layer_output\n"
     ]
    },
    {
     "data": {
      "text/plain": [
       "True"
      ]
     },
     "execution_count": 41,
     "metadata": {},
     "output_type": "execute_result"
    }
   ],
   "source": [
    "### Defining a network Layer ###\n",
    "\n",
    "# n_output_nodes: number of output nodes\n",
    "# input_shape: shape of the input\n",
    "# x: input to the layer\n",
    "\n",
    "class OurDenseLayer(tf.keras.layers.Layer):\n",
    "  def __init__(self, n_output_nodes):\n",
    "    super(OurDenseLayer, self).__init__()\n",
    "    self.n_output_nodes = n_output_nodes\n",
    "\n",
    "  def build(self, input_shape):\n",
    "    d = int(input_shape[-1])\n",
    "    # Define and initialize parameters: a weight matrix W and bias b\n",
    "    # Note that parameter initialization is random!\n",
    "    self.W = self.add_weight(\"weight\", shape=[d, self.n_output_nodes]) # note the dimensionality\n",
    "    self.b = self.add_weight(\"bias\", shape=[1, self.n_output_nodes]) # note the dimensionality\n",
    "\n",
    "  def call(self, x):\n",
    "    '''TODO: define the operation for z (hint: use tf.matmul)'''\n",
    "    z = tf.add(tf.matmul(x, self.W), self.b)\n",
    "\n",
    "    '''TODO: define the operation for out (hint: use tf.sigmoid)'''\n",
    "    y = tf.sigmoid(z)\n",
    "\n",
    "    return y\n",
    "\n",
    "# Since layer parameters are initialized randomly, we will set a random seed for reproducibility\n",
    "tf.random.set_seed(1)\n",
    "layer = OurDenseLayer(3)\n",
    "layer.build((1,2))\n",
    "x_input = tf.constant([[1,2.]], shape=(1,2))\n",
    "y = layer.call(x_input)\n",
    "\n",
    "# test the output!\n",
    "print(y.numpy())\n",
    "mdl.lab1.test_custom_dense_layer_output(y)"
   ]
  },
  {
   "cell_type": "markdown",
   "metadata": {
    "id": "Jt1FgM7qYZ3D"
   },
   "source": [
    "Conveniently, TensorFlow has defined a number of ```Layers``` that are commonly used in neural networks, for example a [```Dense```](https://www.tensorflow.org/api_docs/python/tf/keras/layers/Dense?version=stable). Now, instead of using a single ```Layer``` to define our simple neural network, we'll use the  [`Sequential`](https://www.tensorflow.org/versions/r2.0/api_docs/python/tf/keras/Sequential) model from Keras and a single [`Dense` ](https://www.tensorflow.org/versions/r2.0/api_docs/python/tf/keras/layers/Dense) layer to define our network. With the `Sequential` API, you can readily create neural networks by stacking together layers like building blocks. "
   ]
  },
  {
   "cell_type": "code",
   "execution_count": 20,
   "metadata": {
    "id": "7WXTpmoL6TDz"
   },
   "outputs": [],
   "source": [
    "### Defining a neural network using the Sequential API ###\n",
    "\n",
    "# Import relevant packages\n",
    "from tensorflow.keras import Sequential\n",
    "from tensorflow.keras.layers import Dense\n",
    "\n",
    "# Define the number of outputs\n",
    "n_output_nodes = 3\n",
    "\n",
    "# First define the model\n",
    "model = Sequential()\n",
    "\n",
    "'''TODO: Define a dense (fully connected) layer to compute z'''\n",
    "# Remember: dense layers are defined by the parameters W and b!\n",
    "# You can read more about the initialization of W and b in the TF documentation :)\n",
    "# https://www.tensorflow.org/api_docs/python/tf/keras/layers/Dense?version=stable\n",
    "\n",
    "dense_layer = Dense(n_output_nodes, activation='sigmoid')\n",
    "\n",
    "# Add the dense layer to the model\n",
    "model.add(dense_layer)"
   ]
  },
  {
   "cell_type": "markdown",
   "metadata": {
    "id": "HDGcwYfUyR-U"
   },
   "source": [
    "That's it! We've defined our model using the Sequential API. Now, we can test it out using an example input:"
   ]
  },
  {
   "cell_type": "code",
   "execution_count": 21,
   "metadata": {
    "colab": {
     "base_uri": "https://localhost:8080/"
    },
    "id": "sg23OczByRDb",
    "outputId": "9eddf57c-fc11-4b0f-bde5-e82364ad33e9"
   },
   "outputs": [
    {
     "name": "stdout",
     "output_type": "stream",
     "text": [
      "tf.Tensor([[0.3559291  0.57471335 0.38787863]], shape=(1, 3), dtype=float32)\n"
     ]
    }
   ],
   "source": [
    "# Test model with example input\n",
    "x_input = tf.constant([[1,2.]], shape=(1,2))\n",
    "\n",
    "'''TODO: feed input into the model and predict the output!'''\n",
    "model_output = model(x_input)\n",
    "\n",
    "print(model_output)"
   ]
  },
  {
   "cell_type": "markdown",
   "metadata": {
    "id": "596NvsOOtr9F"
   },
   "source": [
    "In addition to defining models using the `Sequential` API, we can also define neural networks by directly subclassing the [`Model`](https://www.tensorflow.org/api_docs/python/tf/keras/Model?version=stable) class, which groups layers together to enable model training and inference. The `Model` class captures what we refer to as a \"model\" or as a \"network\". Using Subclassing, we can create a class for our model, and then define the forward pass through the network using the `call` function. Subclassing affords the flexibility to define custom layers, custom training loops, custom activation functions, and custom models. Let's define the same neural network as above now using Subclassing rather than the `Sequential` model."
   ]
  },
  {
   "cell_type": "code",
   "execution_count": 22,
   "metadata": {
    "id": "K4aCflPVyViD"
   },
   "outputs": [],
   "source": [
    "### Defining a model using subclassing ###\n",
    "\n",
    "from tensorflow.keras import Model\n",
    "from tensorflow.keras.layers import Dense\n",
    "\n",
    "class SubclassModel(tf.keras.Model):\n",
    "\n",
    "  # In __init__, we define the Model's layers\n",
    "  def __init__(self, n_output_nodes):\n",
    "    super(SubclassModel, self).__init__()\n",
    "    '''TODO: Our model consists of a single Dense layer. Define this layer.'''\n",
    "    self.dense_layer = Dense(n_output_nodes, activation='sigmoid')\n",
    "\n",
    "  # In the call function, we define the Model's forward pass.\n",
    "  def call(self, inputs):\n",
    "    return self.dense_layer(inputs)"
   ]
  },
  {
   "cell_type": "markdown",
   "metadata": {
    "id": "U0-lwHDk4irB"
   },
   "source": [
    "Just like the model we built using the `Sequential` API, let's test out our `SubclassModel` using an example input.\n",
    "\n"
   ]
  },
  {
   "cell_type": "code",
   "execution_count": 23,
   "metadata": {
    "colab": {
     "base_uri": "https://localhost:8080/"
    },
    "id": "LhB34RA-4gXb",
    "outputId": "5b5dadeb-ee32-46eb-f517-d76700dd778d"
   },
   "outputs": [
    {
     "name": "stdout",
     "output_type": "stream",
     "text": [
      "tf.Tensor([[0.17206718 0.55367726 0.7924264 ]], shape=(1, 3), dtype=float32)\n"
     ]
    }
   ],
   "source": [
    "n_output_nodes = 3\n",
    "model = SubclassModel(n_output_nodes)\n",
    "\n",
    "x_input = tf.constant([[1,2.]], shape=(1,2))\n",
    "\n",
    "print(model.call(x_input))"
   ]
  },
  {
   "cell_type": "markdown",
   "metadata": {
    "id": "HTIFMJLAzsyE"
   },
   "source": [
    "Importantly, Subclassing affords us a lot of flexibility to define custom models. For example, we can use boolean arguments in the `call` function to specify different network behaviors, for example different behaviors during training and inference. Let's suppose under some instances we want our network to simply output the input, without any perturbation. We define a boolean argument `isidentity` to control this behavior:"
   ]
  },
  {
   "cell_type": "code",
   "execution_count": 24,
   "metadata": {
    "id": "P7jzGX5D1xT5"
   },
   "outputs": [],
   "source": [
    "### Defining a model using subclassing and specifying custom behavior ###\n",
    "\n",
    "from tensorflow.keras import Model\n",
    "from tensorflow.keras.layers import Dense\n",
    "\n",
    "class IdentityModel(tf.keras.Model):\n",
    "\n",
    "  # As before, in __init__ we define the Model's layers\n",
    "  # Since our desired behavior involves the forward pass, this part is unchanged\n",
    "  def __init__(self, n_output_nodes):\n",
    "    super(IdentityModel, self).__init__()\n",
    "    self.dense_layer = tf.keras.layers.Dense(n_output_nodes, activation='sigmoid')\n",
    "\n",
    "  '''TODO: Implement the behavior where the network outputs the input, unchanged,\n",
    "      under control of the isidentity argument.'''\n",
    "  def call(self, inputs, isidentity=False):\n",
    "    x = self.dense_layer(inputs)\n",
    "    '''TODO: Implement identity behavior'''\n",
    "    if isidentity:\n",
    "      return inputs\n",
    "\n",
    "    return x"
   ]
  },
  {
   "cell_type": "markdown",
   "metadata": {
    "id": "Ku4rcCGx5T3y"
   },
   "source": [
    "Let's test this behavior:"
   ]
  },
  {
   "cell_type": "code",
   "execution_count": 25,
   "metadata": {
    "colab": {
     "base_uri": "https://localhost:8080/"
    },
    "id": "NzC0mgbk5dp2",
    "outputId": "06d050b4-af7d-4411-c849-ebe201089d95"
   },
   "outputs": [
    {
     "name": "stdout",
     "output_type": "stream",
     "text": [
      "Network output with activation: [[0.8562582 0.4366256 0.1653551]]; network identity output: [[1. 2.]]\n"
     ]
    }
   ],
   "source": [
    "n_output_nodes = 3\n",
    "model = IdentityModel(n_output_nodes)\n",
    "\n",
    "x_input = tf.constant([[1,2.]], shape=(1,2))\n",
    "'''TODO: pass the input into the model and call with and without the input identity option.'''\n",
    "out_activate = model.call(x_input, isidentity=False)\n",
    "out_identity = model.call(x_input, isidentity=True)\n",
    "\n",
    "print(\"Network output with activation: {}; network identity output: {}\".format(out_activate.numpy(), out_identity.numpy()))"
   ]
  },
  {
   "cell_type": "markdown",
   "metadata": {
    "id": "7V1dEqdk6VI5"
   },
   "source": [
    "Now that we have learned how to define `Layers` as well as neural networks in TensorFlow using both the `Sequential` and Subclassing APIs, we're ready to turn our attention to how to actually implement network training with backpropagation."
   ]
  },
  {
   "cell_type": "markdown",
   "metadata": {
    "id": "dQwDhKn8kbO2"
   },
   "source": [
    "## 1.4 Automatic differentiation in TensorFlow\n",
    "\n",
    "[Automatic differentiation](https://en.wikipedia.org/wiki/Automatic_differentiation)\n",
    "is one of the most important parts of TensorFlow and is the backbone of training with \n",
    "[backpropagation](https://en.wikipedia.org/wiki/Backpropagation). We will use the TensorFlow GradientTape [`tf.GradientTape`](https://www.tensorflow.org/api_docs/python/tf/GradientTape?version=stable) to trace operations for computing gradients later. \n",
    "\n",
    "When a forward pass is made through the network, all forward-pass operations get recorded to a \"tape\"; then, to compute the gradient, the tape is played backwards. By default, the tape is discarded after it is played backwards; this means that a particular `tf.GradientTape` can only\n",
    "compute one gradient, and subsequent calls throw a runtime error. However, we can compute multiple gradients over the same computation by creating a ```persistent``` gradient tape. \n",
    "\n",
    "First, we will look at how we can compute gradients using GradientTape and access them for computation. We define the simple function $ y = x^2$ and compute the gradient:"
   ]
  },
  {
   "cell_type": "code",
   "execution_count": 26,
   "metadata": {
    "id": "tdkqk8pw5yJM"
   },
   "outputs": [],
   "source": [
    "### Gradient computation with GradientTape ###\n",
    "\n",
    "# y = x^2\n",
    "# Example: x = 3.0\n",
    "x = tf.Variable(3.0)\n",
    "\n",
    "# Initiate the gradient tape\n",
    "with tf.GradientTape() as tape:\n",
    "  # Define the function\n",
    "  y = x * x\n",
    "# Access the gradient -- derivative of y with respect to x\n",
    "dy_dx = tape.gradient(y, x)\n",
    "\n",
    "assert dy_dx.numpy() == 6.0"
   ]
  },
  {
   "cell_type": "markdown",
   "metadata": {
    "id": "JhU5metS5xF3"
   },
   "source": [
    "In training neural networks, we use differentiation and stochastic gradient descent (SGD) to optimize a loss function. Now that we have a sense of how `GradientTape` can be used to compute and access derivatives, we will look at an example where we use automatic differentiation and SGD to find the minimum of $L=(x-x_f)^2$. Here $x_f$ is a variable for a desired value we are trying to optimize for; $L$ represents a loss that we are trying to  minimize. While we can clearly solve this problem analytically ($x_{min}=x_f$), considering how we can compute this using `GradientTape` sets us up nicely for future labs where we use gradient descent to optimize entire neural network losses."
   ]
  },
  {
   "cell_type": "code",
   "execution_count": 27,
   "metadata": {
    "attributes": {
     "classes": [
      "py"
     ],
     "id": ""
    },
    "colab": {
     "base_uri": "https://localhost:8080/",
     "height": 314
    },
    "id": "7g1yWiSXqEf-",
    "outputId": "f878ded8-a837-4612-e0fc-4db296c79ef2"
   },
   "outputs": [
    {
     "name": "stdout",
     "output_type": "stream",
     "text": [
      "Initializing x=[[-0.581527]]\n"
     ]
    },
    {
     "data": {
      "text/plain": [
       "Text(0, 0.5, 'x value')"
      ]
     },
     "execution_count": 27,
     "metadata": {},
     "output_type": "execute_result"
    },
    {
     "data": {
      "image/png": "[encoded data removed]",
      "text/plain": [
       "<Figure size 640x480 with 1 Axes>"
      ]
     },
     "metadata": {},
     "output_type": "display_data"
    }
   ],
   "source": [
    "### Function minimization with automatic differentiation and SGD ###\n",
    "\n",
    "# Initialize a random value for our initial x\n",
    "x = tf.Variable([tf.random.normal([1])])\n",
    "print(\"Initializing x={}\".format(x.numpy()))\n",
    "\n",
    "learning_rate = 1e-2 # learning rate for SGD\n",
    "history = []\n",
    "# Define the target value\n",
    "x_f = 4\n",
    "\n",
    "# We will run SGD for a number of iterations. At each iteration, we compute the loss,\n",
    "#   compute the derivative of the loss with respect to x, and perform the SGD update.\n",
    "for i in range(500):\n",
    "  with tf.GradientTape() as tape:\n",
    "    '''TODO: define the loss as described above'''\n",
    "    loss = (x - x_f)**2\n",
    "\n",
    "  # loss minimization using gradient tape\n",
    "  grad = tape.gradient(loss, x) # compute the derivative of the loss with respect to x\n",
    "  new_x = x - learning_rate*grad # sgd update\n",
    "  x.assign(new_x) # update the value of x\n",
    "  history.append(x.numpy()[0])\n",
    "\n",
    "# Plot the evolution of x as we optimize towards x_f!\n",
    "plt.plot(history)\n",
    "plt.plot([0, 500],[x_f,x_f])\n",
    "plt.legend(('Predicted', 'True'))\n",
    "plt.xlabel('Iteration')\n",
    "plt.ylabel('x value')"
   ]
  },
  {
   "cell_type": "markdown",
   "metadata": {
    "id": "pC7czCwk3ceH"
   },
   "source": [
    "`GradientTape` provides an extremely flexible framework for automatic differentiation. In order to back propagate errors through a neural network, we track forward passes on the Tape, use this information to determine the gradients, and then use these gradients for optimization using SGD."
   ]
  }
 ],
 "metadata": {
  "accelerator": "GPU",
  "colab": {
   "collapsed_sections": [
    "WBk0ZDWY-ff8"
   ],
   "name": "Part1_TensorFlow_Solution.ipynb",
   "provenance": []
  },
  "kernelspec": {
   "display_name": "Python 3 (ipykernel)",
   "language": "python",
   "name": "python3"
  },
  "language_info": {
   "codemirror_mode": {
    "name": "ipython",
    "version": 3
   },
   "file_extension": ".py",
   "mimetype": "text/x-python",
   "name": "python",
   "nbconvert_exporter": "python",
   "pygments_lexer": "ipython3",
   "version": "3.11.4"
  },
  "toc": {
   "base_numbering": 1,
   "nav_menu": {},
   "number_sections": true,
   "sideBar": true,
   "skip_h1_title": false,
   "title_cell": "Table of Contents",
   "title_sidebar": "Contents",
   "toc_cell": false,
   "toc_position": {},
   "toc_section_display": true,
   "toc_window_display": false
  }
 },
 "nbformat": 4,
 "nbformat_minor": 1
}
